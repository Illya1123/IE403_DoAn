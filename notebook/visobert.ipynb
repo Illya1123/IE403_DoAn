{
 "cells": [
  {
   "cell_type": "code",
   "execution_count": 1,
   "id": "54fbb94c",
   "metadata": {
    "execution": {
     "iopub.execute_input": "2025-06-14T07:36:14.027869Z",
     "iopub.status.busy": "2025-06-14T07:36:14.027330Z",
     "iopub.status.idle": "2025-06-14T07:36:25.644958Z",
     "shell.execute_reply": "2025-06-14T07:36:25.644329Z",
     "shell.execute_reply.started": "2025-06-14T07:36:14.027847Z"
    },
    "trusted": true
   },
   "outputs": [],
   "source": [
    "import numpy as np\n",
    "import pandas as pd\n",
    "import torch\n",
    "from torch.utils.data import DataLoader, TensorDataset, random_split\n",
    "from transformers import AutoTokenizer, AutoModelForSequenceClassification\n",
    "import os\n",
    "import matplotlib.pyplot as plt\n",
    "from tqdm.notebook import tqdm\n",
    "from torch.optim import AdamW\n",
    "from sklearn.metrics import accuracy_score, precision_recall_fscore_support, classification_report, confusion_matrix\n",
    "from sklearn.utils.class_weight import compute_class_weight\n",
    "from torch.nn import CrossEntropyLoss\n",
    "import seaborn as sns"
   ]
  },
  {
   "cell_type": "code",
   "execution_count": 2,
   "id": "3e686abb",
   "metadata": {
    "execution": {
     "iopub.execute_input": "2025-06-14T07:36:25.646491Z",
     "iopub.status.busy": "2025-06-14T07:36:25.646075Z",
     "iopub.status.idle": "2025-06-14T07:36:25.650956Z",
     "shell.execute_reply": "2025-06-14T07:36:25.649882Z",
     "shell.execute_reply.started": "2025-06-14T07:36:25.646463Z"
    },
    "trusted": true
   },
   "outputs": [],
   "source": [
    "# Đường dẫn dữ liệu\n",
    "data_path = '/kaggle/input/ie403-doan/tiktok_comments_balanced_v2.csv'"
   ]
  },
  {
   "cell_type": "code",
   "execution_count": 3,
   "id": "359a9497",
   "metadata": {
    "execution": {
     "iopub.execute_input": "2025-06-14T07:36:25.652118Z",
     "iopub.status.busy": "2025-06-14T07:36:25.651855Z",
     "iopub.status.idle": "2025-06-14T07:36:25.733714Z",
     "shell.execute_reply": "2025-06-14T07:36:25.731006Z",
     "shell.execute_reply.started": "2025-06-14T07:36:25.652096Z"
    },
    "trusted": true
   },
   "outputs": [],
   "source": [
    "# Đọc dữ liệu\n",
    "comments = pd.read_csv(data_path, usecols=['emotion_label', 'text'])\n",
    "comments = comments.dropna(subset=['emotion_label'])\n",
    "comments['emotion_label'] = comments['emotion_label'].astype(int)\n",
    "\n",
    "# Không xử lý gì văn bản — giữ nguyên\n",
    "comments['text'] = comments['text'].astype(str)"
   ]
  },
  {
   "cell_type": "code",
   "execution_count": 4,
   "id": "53743595",
   "metadata": {
    "execution": {
     "iopub.execute_input": "2025-06-14T07:36:25.735189Z",
     "iopub.status.busy": "2025-06-14T07:36:25.734913Z",
     "iopub.status.idle": "2025-06-14T07:36:42.158060Z",
     "shell.execute_reply": "2025-06-14T07:36:42.157480Z",
     "shell.execute_reply.started": "2025-06-14T07:36:25.735163Z"
    },
    "trusted": true
   },
   "outputs": [
    {
     "data": {
      "application/vnd.jupyter.widget-view+json": {
       "model_id": "43c9fc5aee2545b192d0a9a183ad227f",
       "version_major": 2,
       "version_minor": 0
      },
      "text/plain": [
       "config.json:   0%|          | 0.00/644 [00:00<?, ?B/s]"
      ]
     },
     "metadata": {},
     "output_type": "display_data"
    },
    {
     "data": {
      "application/vnd.jupyter.widget-view+json": {
       "model_id": "7782ce6b428140ad9874ad04c1eed6cf",
       "version_major": 2,
       "version_minor": 0
      },
      "text/plain": [
       "sentencepiece.bpe.model:   0%|          | 0.00/471k [00:00<?, ?B/s]"
      ]
     },
     "metadata": {},
     "output_type": "display_data"
    },
    {
     "name": "stderr",
     "output_type": "stream",
     "text": [
      "2025-06-14 07:36:29.344937: E external/local_xla/xla/stream_executor/cuda/cuda_fft.cc:477] Unable to register cuFFT factory: Attempting to register factory for plugin cuFFT when one has already been registered\n",
      "WARNING: All log messages before absl::InitializeLog() is called are written to STDERR\n",
      "E0000 00:00:1749886589.542874      35 cuda_dnn.cc:8310] Unable to register cuDNN factory: Attempting to register factory for plugin cuDNN when one has already been registered\n",
      "E0000 00:00:1749886589.600342      35 cuda_blas.cc:1418] Unable to register cuBLAS factory: Attempting to register factory for plugin cuBLAS when one has already been registered\n"
     ]
    },
    {
     "data": {
      "application/vnd.jupyter.widget-view+json": {
       "model_id": "3f62d633a7c84e6b83b71ee84b9e6fde",
       "version_major": 2,
       "version_minor": 0
      },
      "text/plain": [
       "pytorch_model.bin:   0%|          | 0.00/390M [00:00<?, ?B/s]"
      ]
     },
     "metadata": {},
     "output_type": "display_data"
    },
    {
     "name": "stderr",
     "output_type": "stream",
     "text": [
      "Some weights of XLMRobertaForSequenceClassification were not initialized from the model checkpoint at uitnlp/visobert and are newly initialized: ['classifier.dense.bias', 'classifier.dense.weight', 'classifier.out_proj.bias', 'classifier.out_proj.weight']\n",
      "You should probably TRAIN this model on a down-stream task to be able to use it for predictions and inference.\n"
     ]
    }
   ],
   "source": [
    "# Tokenizer và Model\n",
    "model_name = \"uitnlp/visobert\"\n",
    "tokenizer = AutoTokenizer.from_pretrained(model_name, use_fast=True)\n",
    "num_labels = 5\n",
    "model = AutoModelForSequenceClassification.from_pretrained(model_name, num_labels=num_labels)"
   ]
  },
  {
   "cell_type": "code",
   "execution_count": 5,
   "id": "84e042e5",
   "metadata": {
    "execution": {
     "iopub.execute_input": "2025-06-14T07:36:42.160073Z",
     "iopub.status.busy": "2025-06-14T07:36:42.159620Z",
     "iopub.status.idle": "2025-06-14T07:36:43.532245Z",
     "shell.execute_reply": "2025-06-14T07:36:43.531485Z",
     "shell.execute_reply.started": "2025-06-14T07:36:42.160056Z"
    },
    "trusted": true
   },
   "outputs": [
    {
     "data": {
      "application/vnd.jupyter.widget-view+json": {
       "model_id": "ba79e37e9cc94e1da4da5e9a059b494b",
       "version_major": 2,
       "version_minor": 0
      },
      "text/plain": [
       "model.safetensors:   0%|          | 0.00/390M [00:00<?, ?B/s]"
      ]
     },
     "metadata": {},
     "output_type": "display_data"
    }
   ],
   "source": [
    "# Mã hóa dữ liệu\n",
    "encoded_comments = tokenizer.batch_encode_plus(\n",
    "    comments['text'].tolist(),\n",
    "    add_special_tokens=True,\n",
    "    padding='max_length',\n",
    "    max_length=128,\n",
    "    truncation=True,\n",
    "    return_attention_mask=True,\n",
    "    return_tensors='pt'\n",
    ")\n",
    "\n",
    "input_ids = encoded_comments['input_ids']\n",
    "attention_masks = encoded_comments['attention_mask']\n",
    "labels = torch.tensor(comments['emotion_label'].values)\n",
    "\n",
    "dataset = TensorDataset(input_ids, attention_masks, labels)"
   ]
  },
  {
   "cell_type": "code",
   "execution_count": 6,
   "id": "f55fd9a3",
   "metadata": {
    "execution": {
     "iopub.execute_input": "2025-06-14T07:36:43.533298Z",
     "iopub.status.busy": "2025-06-14T07:36:43.533077Z",
     "iopub.status.idle": "2025-06-14T07:36:43.538904Z",
     "shell.execute_reply": "2025-06-14T07:36:43.538137Z",
     "shell.execute_reply.started": "2025-06-14T07:36:43.533261Z"
    },
    "trusted": true
   },
   "outputs": [],
   "source": [
    "# Chia tập train/val\n",
    "train_size = int(0.9 * len(dataset))\n",
    "val_size = len(dataset) - train_size\n",
    "train_dataset, val_dataset = random_split(dataset, [train_size, val_size])\n",
    "batch_size = 16\n",
    "train_loader = DataLoader(train_dataset, batch_size=batch_size, shuffle=True)\n",
    "val_loader = DataLoader(val_dataset, batch_size=batch_size)"
   ]
  },
  {
   "cell_type": "code",
   "execution_count": 7,
   "id": "92514ba8-c3f9-47aa-860d-9a3d796b47c1",
   "metadata": {
    "execution": {
     "iopub.execute_input": "2025-06-14T07:36:43.539940Z",
     "iopub.status.busy": "2025-06-14T07:36:43.539660Z",
     "iopub.status.idle": "2025-06-14T07:36:43.554505Z",
     "shell.execute_reply": "2025-06-14T07:36:43.553757Z",
     "shell.execute_reply.started": "2025-06-14T07:36:43.539920Z"
    },
    "trusted": true
   },
   "outputs": [],
   "source": [
    "save_directory = '/kaggle/working/visobert'\n",
    "os.makedirs(save_directory, exist_ok=True)"
   ]
  },
  {
   "cell_type": "code",
   "execution_count": 8,
   "id": "34cc2525",
   "metadata": {
    "execution": {
     "iopub.execute_input": "2025-06-14T07:36:43.555892Z",
     "iopub.status.busy": "2025-06-14T07:36:43.555592Z",
     "iopub.status.idle": "2025-06-14T07:50:05.528144Z",
     "shell.execute_reply": "2025-06-14T07:50:05.527539Z",
     "shell.execute_reply.started": "2025-06-14T07:36:43.555853Z"
    },
    "trusted": true
   },
   "outputs": [
    {
     "data": {
      "application/vnd.jupyter.widget-view+json": {
       "model_id": "be923df6e5e44fee91bc05e11273277f",
       "version_major": 2,
       "version_minor": 0
      },
      "text/plain": [
       "Training Epoch 1:   0%|          | 0/776 [00:00<?, ?it/s]"
      ]
     },
     "metadata": {},
     "output_type": "display_data"
    },
    {
     "data": {
      "application/vnd.jupyter.widget-view+json": {
       "model_id": "209bcdcfa0b141faa0e3bf3e8c514505",
       "version_major": 2,
       "version_minor": 0
      },
      "text/plain": [
       "Validation Epoch 1:   0%|          | 0/87 [00:00<?, ?it/s]"
      ]
     },
     "metadata": {},
     "output_type": "display_data"
    },
    {
     "name": "stdout",
     "output_type": "stream",
     "text": [
      "[Epoch 1] Train Loss: 0.9746 | Val Loss: 0.8900 | Val Accuracy: 0.6560\n"
     ]
    },
    {
     "data": {
      "application/vnd.jupyter.widget-view+json": {
       "model_id": "cf9537dd93c9486b80cf5ef89a27fd19",
       "version_major": 2,
       "version_minor": 0
      },
      "text/plain": [
       "Training Epoch 2:   0%|          | 0/776 [00:00<?, ?it/s]"
      ]
     },
     "metadata": {},
     "output_type": "display_data"
    },
    {
     "data": {
      "application/vnd.jupyter.widget-view+json": {
       "model_id": "eade39ada0b940ca9ee221e0167730f5",
       "version_major": 2,
       "version_minor": 0
      },
      "text/plain": [
       "Validation Epoch 2:   0%|          | 0/87 [00:00<?, ?it/s]"
      ]
     },
     "metadata": {},
     "output_type": "display_data"
    },
    {
     "name": "stdout",
     "output_type": "stream",
     "text": [
      "[Epoch 2] Train Loss: 0.6183 | Val Loss: 0.9091 | Val Accuracy: 0.6626\n"
     ]
    },
    {
     "data": {
      "application/vnd.jupyter.widget-view+json": {
       "model_id": "96a56a5943e046358e448d1c95066be7",
       "version_major": 2,
       "version_minor": 0
      },
      "text/plain": [
       "Training Epoch 3:   0%|          | 0/776 [00:00<?, ?it/s]"
      ]
     },
     "metadata": {},
     "output_type": "display_data"
    },
    {
     "data": {
      "application/vnd.jupyter.widget-view+json": {
       "model_id": "bfc97886af9f46ce9168e637ce285a91",
       "version_major": 2,
       "version_minor": 0
      },
      "text/plain": [
       "Validation Epoch 3:   0%|          | 0/87 [00:00<?, ?it/s]"
      ]
     },
     "metadata": {},
     "output_type": "display_data"
    },
    {
     "name": "stdout",
     "output_type": "stream",
     "text": [
      "[Epoch 3] Train Loss: 0.3438 | Val Loss: 1.1121 | Val Accuracy: 0.6531\n"
     ]
    },
    {
     "data": {
      "application/vnd.jupyter.widget-view+json": {
       "model_id": "7eed9c12541746fa93c8bed32be75093",
       "version_major": 2,
       "version_minor": 0
      },
      "text/plain": [
       "Training Epoch 4:   0%|          | 0/776 [00:00<?, ?it/s]"
      ]
     },
     "metadata": {},
     "output_type": "display_data"
    },
    {
     "data": {
      "application/vnd.jupyter.widget-view+json": {
       "model_id": "d1c015e0b09b434b88776f0a0e98ada3",
       "version_major": 2,
       "version_minor": 0
      },
      "text/plain": [
       "Validation Epoch 4:   0%|          | 0/87 [00:00<?, ?it/s]"
      ]
     },
     "metadata": {},
     "output_type": "display_data"
    },
    {
     "name": "stdout",
     "output_type": "stream",
     "text": [
      "[Epoch 4] Train Loss: 0.2081 | Val Loss: 1.3792 | Val Accuracy: 0.6538\n"
     ]
    },
    {
     "data": {
      "application/vnd.jupyter.widget-view+json": {
       "model_id": "67ea86c4909e410681552a68f488a8e9",
       "version_major": 2,
       "version_minor": 0
      },
      "text/plain": [
       "Training Epoch 5:   0%|          | 0/776 [00:00<?, ?it/s]"
      ]
     },
     "metadata": {},
     "output_type": "display_data"
    },
    {
     "data": {
      "application/vnd.jupyter.widget-view+json": {
       "model_id": "081e2e0027764cc88cf3938179341dee",
       "version_major": 2,
       "version_minor": 0
      },
      "text/plain": [
       "Validation Epoch 5:   0%|          | 0/87 [00:00<?, ?it/s]"
      ]
     },
     "metadata": {},
     "output_type": "display_data"
    },
    {
     "name": "stdout",
     "output_type": "stream",
     "text": [
      "[Epoch 5] Train Loss: 0.1655 | Val Loss: 1.4881 | Val Accuracy: 0.6582\n",
      "Early stopping tại epoch 5 (val_acc không cải thiện sau 3 epoch)\n",
      "\n",
      "Training completed!\n",
      "Best Validation Accuracy: 0.6626\n"
     ]
    },
    {
     "data": {
      "text/plain": [
       "('/kaggle/working/visobert/tokenizer_config.json',\n",
       " '/kaggle/working/visobert/special_tokens_map.json',\n",
       " '/kaggle/working/visobert/sentencepiece.bpe.model',\n",
       " '/kaggle/working/visobert/added_tokens.json',\n",
       " '/kaggle/working/visobert/tokenizer.json')"
      ]
     },
     "execution_count": 8,
     "metadata": {},
     "output_type": "execute_result"
    }
   ],
   "source": [
    "# Thiết bị\n",
    "device = torch.device('cuda' if torch.cuda.is_available() else 'cpu')\n",
    "model.to(device)\n",
    "\n",
    "# Tính class weights\n",
    "all_labels = []\n",
    "for batch in train_loader:\n",
    "    _, _, labels = batch\n",
    "    all_labels.extend(labels.numpy())\n",
    "all_labels = np.array(all_labels)\n",
    "\n",
    "class_weights = compute_class_weight(class_weight='balanced', classes=np.unique(all_labels), y=all_labels)\n",
    "class_weights = torch.tensor(class_weights, dtype=torch.float).to(device)\n",
    "loss_fn = CrossEntropyLoss(weight=class_weights)\n",
    "\n",
    "# Optimizer\n",
    "optimizer = AdamW(model.parameters(), lr=5e-5)\n",
    "\n",
    "# Training loop\n",
    "num_epochs = 10\n",
    "patience = 3\n",
    "best_accuracy = 0\n",
    "patience_counter = 0\n",
    "\n",
    "train_losses = []\n",
    "val_losses = []\n",
    "val_accuracies = []\n",
    "\n",
    "for epoch in range(num_epochs):\n",
    "    model.train()\n",
    "    total_loss = 0\n",
    "    for batch in tqdm(train_loader, desc=f\"Training Epoch {epoch+1}\"):\n",
    "        input_ids, attention_mask, labels = [x.to(device) for x in batch]\n",
    "        optimizer.zero_grad()\n",
    "        outputs = model(input_ids, attention_mask=attention_mask)\n",
    "        loss = loss_fn(outputs.logits, labels)\n",
    "        loss.backward()\n",
    "        optimizer.step()\n",
    "        total_loss += loss.item()\n",
    "\n",
    "    avg_train_loss = total_loss / len(train_loader)\n",
    "    train_losses.append(avg_train_loss)\n",
    "\n",
    "    # Validation\n",
    "    model.eval()\n",
    "    true_labels, pred_labels = [], []\n",
    "    val_loss = 0\n",
    "    with torch.no_grad():\n",
    "        for batch in tqdm(val_loader, desc=f\"Validation Epoch {epoch+1}\"):\n",
    "            input_ids, attention_mask, labels = [x.to(device) for x in batch]\n",
    "            outputs = model(input_ids, attention_mask=attention_mask)\n",
    "            loss = loss_fn(outputs.logits, labels)\n",
    "            val_loss += loss.item()\n",
    "            preds = torch.argmax(outputs.logits, dim=1)\n",
    "            pred_labels.extend(preds.cpu().numpy())\n",
    "            true_labels.extend(labels.cpu().numpy())\n",
    "\n",
    "    avg_val_loss = val_loss / len(val_loader)\n",
    "    val_losses.append(avg_val_loss)\n",
    "    accuracy = accuracy_score(true_labels, pred_labels)\n",
    "    val_accuracies.append(accuracy)\n",
    "\n",
    "    print(f\"[Epoch {epoch+1}] Train Loss: {avg_train_loss:.4f} | \"\n",
    "          f\"Val Loss: {avg_val_loss:.4f} | Val Accuracy: {accuracy:.4f}\")\n",
    "\n",
    "    # Early stopping\n",
    "    if accuracy > best_accuracy:\n",
    "        best_accuracy = accuracy\n",
    "        patience_counter = 0\n",
    "        torch.save({\n",
    "            'epoch': epoch + 1,\n",
    "            'model_state_dict': model.state_dict(),\n",
    "            'optimizer_state_dict': optimizer.state_dict(),\n",
    "            'val_accuracy': accuracy,\n",
    "            'loss': avg_val_loss\n",
    "        }, \"best_model.pth\")\n",
    "    else:\n",
    "        patience_counter += 1\n",
    "        if patience_counter >= patience:\n",
    "            print(f\"Early stopping tại epoch {epoch+1} (val_acc không cải thiện sau {patience} epoch)\")\n",
    "            break\n",
    "\n",
    "print(\"\\nTraining completed!\")\n",
    "print(f\"Best Validation Accuracy: {best_accuracy:.4f}\")\n",
    "\n",
    "# Lưu model\n",
    "model.save_pretrained(save_directory)\n",
    "tokenizer.save_pretrained(save_directory)"
   ]
  },
  {
   "cell_type": "code",
   "execution_count": 9,
   "id": "ce204690-e8b9-446e-8210-4ad73660efc6",
   "metadata": {
    "execution": {
     "iopub.execute_input": "2025-06-14T07:50:05.529160Z",
     "iopub.status.busy": "2025-06-14T07:50:05.528896Z",
     "iopub.status.idle": "2025-06-14T07:50:05.532919Z",
     "shell.execute_reply": "2025-06-14T07:50:05.532341Z",
     "shell.execute_reply.started": "2025-06-14T07:50:05.529142Z"
    },
    "trusted": true
   },
   "outputs": [],
   "source": [
    "# Dự đoán mẫu\n",
    "label_names = {\n",
    "    0: 'Vui vẻ',\n",
    "    1: 'Tức giận',\n",
    "    2: 'Buồn bã',\n",
    "    3: 'Sợ hãi',\n",
    "    4: 'Khác'\n",
    "}"
   ]
  },
  {
   "cell_type": "code",
   "execution_count": null,
   "id": "68f59e2a-a704-4c03-a6a4-e4e2799b8c5a",
   "metadata": {
    "execution": {
     "iopub.execute_input": "2025-06-14T07:50:05.533891Z",
     "iopub.status.busy": "2025-06-14T07:50:05.533601Z",
     "iopub.status.idle": "2025-06-14T07:50:11.209042Z",
     "shell.execute_reply": "2025-06-14T07:50:11.208325Z",
     "shell.execute_reply.started": "2025-06-14T07:50:05.533876Z"
    },
    "trusted": true
   },
   "outputs": [
    {
     "data": {
      "application/vnd.jupyter.widget-view+json": {
       "model_id": "f8b6a25cafd84326a26733f6c4428542",
       "version_major": 2,
       "version_minor": 0
      },
      "text/plain": [
       "Predicting Best Model:   0%|          | 0/87 [00:00<?, ?it/s]"
      ]
     },
     "metadata": {},
     "output_type": "display_data"
    },
    {
     "name": "stdout",
     "output_type": "stream",
     "text": [
      "              precision    recall  f1-score   support\n",
      "\n",
      "      Vui vẻ     0.5919    0.4783    0.5291       276\n",
      "    Tức giận     0.6780    0.6605    0.6692       271\n",
      "     Buồn bã     0.6757    0.7168    0.6957       279\n",
      "      Sợ hãi     0.8333    0.8052    0.8190       267\n",
      "        Khác     0.5549    0.6561    0.6013       285\n",
      "\n",
      "    accuracy                         0.6626      1378\n",
      "   macro avg     0.6668    0.6634    0.6628      1378\n",
      "weighted avg     0.6649    0.6626    0.6615      1378\n",
      "\n"
     ]
    }
   ],
   "source": [
    "checkpoint = torch.load(\"best_model.pth\", map_location=device, weights_only=False)\n",
    "model.load_state_dict(checkpoint['model_state_dict'])\n",
    "model.eval()\n",
    "\n",
    "true_labels, pred_labels = [], []\n",
    "with torch.no_grad():\n",
    "    for batch in tqdm(val_loader, desc=\"Predicting Best Model\"):\n",
    "        input_ids, attention_mask, labels = [x.to(device) for x in batch]\n",
    "        outputs = model(input_ids, attention_mask=attention_mask)\n",
    "        preds = torch.argmax(outputs.logits, dim=1)\n",
    "        pred_labels.extend(preds.cpu().numpy())\n",
    "        true_labels.extend(labels.cpu().numpy())\n",
    "\n",
    "print(classification_report(true_labels, pred_labels, target_names=list(label_names.values()), digits=4))"
   ]
  },
  {
   "cell_type": "code",
   "execution_count": 11,
   "id": "de12908d-02d1-4a9e-9315-e39a18813c70",
   "metadata": {
    "execution": {
     "iopub.execute_input": "2025-06-14T07:50:11.210162Z",
     "iopub.status.busy": "2025-06-14T07:50:11.209889Z",
     "iopub.status.idle": "2025-06-14T07:50:11.581562Z",
     "shell.execute_reply": "2025-06-14T07:50:11.580733Z",
     "shell.execute_reply.started": "2025-06-14T07:50:11.210139Z"
    },
    "trusted": true
   },
   "outputs": [
    {
     "data": {
      "image/png": "[encoded data removed]",
      "text/plain": [
       "<Figure size 800x600 with 2 Axes>"
      ]
     },
     "metadata": {},
     "output_type": "display_data"
    }
   ],
   "source": [
    "# Ma trận nhầm lẫn\n",
    "cm = confusion_matrix(true_labels, pred_labels)\n",
    "labels = list(label_names.values())\n",
    "\n",
    "plt.figure(figsize=(8, 6))\n",
    "sns.heatmap(cm, annot=True, fmt='d', cmap='Blues', xticklabels=labels, yticklabels=labels)\n",
    "plt.xlabel('Predicted Label')\n",
    "plt.ylabel('True Label')\n",
    "plt.title('Confusion Matrix')\n",
    "plt.tight_layout()\n",
    "plt.show()"
   ]
  },
  {
   "cell_type": "code",
   "execution_count": 12,
   "id": "d1e4aced",
   "metadata": {
    "execution": {
     "iopub.execute_input": "2025-06-14T07:50:11.582680Z",
     "iopub.status.busy": "2025-06-14T07:50:11.582439Z",
     "iopub.status.idle": "2025-06-14T07:50:12.731116Z",
     "shell.execute_reply": "2025-06-14T07:50:12.730433Z",
     "shell.execute_reply.started": "2025-06-14T07:50:11.582653Z"
    },
    "trusted": true
   },
   "outputs": [
    {
     "name": "stdout",
     "output_type": "stream",
     "text": [
      "\n",
      "Đã load mô hình tốt nhất tại epoch 2 với val_acc = 0.6626\n"
     ]
    }
   ],
   "source": [
    "# Load lại mô hình tốt nhất từ file .pth\n",
    "checkpoint = torch.load(\"best_model.pth\", map_location=device, weights_only=False)\n",
    "model.load_state_dict(checkpoint['model_state_dict'])\n",
    "optimizer.load_state_dict(checkpoint['optimizer_state_dict'])\n",
    "model.to(device)\n",
    "print(f\"\\nĐã load mô hình tốt nhất tại epoch {checkpoint['epoch']} với val_acc = {checkpoint['val_accuracy']:.4f}\")"
   ]
  },
  {
   "cell_type": "code",
   "execution_count": 13,
   "id": "b4cfb8e1",
   "metadata": {
    "execution": {
     "iopub.execute_input": "2025-06-14T07:50:12.732091Z",
     "iopub.status.busy": "2025-06-14T07:50:12.731837Z",
     "iopub.status.idle": "2025-06-14T07:50:12.737926Z",
     "shell.execute_reply": "2025-06-14T07:50:12.737111Z",
     "shell.execute_reply.started": "2025-06-14T07:50:12.732075Z"
    },
    "trusted": true
   },
   "outputs": [
    {
     "name": "stdout",
     "output_type": "stream",
     "text": [
      "\n",
      "--- Examples of Predictions ---\n",
      "❌ Incorrect | Text: sao mk ko gặp nhỉ\n",
      "  Predicted: Khác, Actual: Vui vẻ\n",
      "\n",
      "✅ Correct | Text: cuối xin pháp_luật hãy mạnh_tay với mấy em\n",
      "  Predicted: Tức giận, Actual: Tức giận\n",
      "\n",
      "❌ Incorrect | Text: đàn_ông ngoại_tình_nể mỗi sếp\n",
      "  Predicted: Vui vẻ, Actual: Tức giận\n",
      "\n",
      "✅ Correct | Text: vào phở bò cô ấy đáng thương lắm mn ạ_thương gia_đình cô lắm\n",
      "  Predicted: Buồn bã, Actual: Buồn bã\n",
      "\n",
      "❌ Incorrect | Text: có nên yêu em nhà bán gas không\n",
      "  Predicted: Vui vẻ, Actual: Khác\n",
      "\n",
      "✅ Correct | Text: đi ra đường h sợ v\n",
      "  Predicted: Sợ hãi, Actual: Sợ hãi\n",
      "\n",
      "❌ Incorrect | Text: tao chỉ để_ý cái khách_sạn thôi\n",
      "  Predicted: Khác, Actual: Vui vẻ\n",
      "\n",
      "✅ Correct | Text: ngầu chưa kịp 3 s\n",
      "  Predicted: Vui vẻ, Actual: Vui vẻ\n",
      "\n",
      "❌ Incorrect | Text: hong nhur\n",
      "  Predicted: Khác, Actual: Vui vẻ\n",
      "\n",
      "✅ Correct | Text: k có cưứ hỏa à\n",
      "  Predicted: Khác, Actual: Khác\n",
      "\n"
     ]
    }
   ],
   "source": [
    "print(\"\\n--- Examples of Predictions ---\")\n",
    "for i in range(10):\n",
    "    pred = pred_labels[i]\n",
    "    true = true_labels[i]\n",
    "    text = comments.iloc[val_dataset.indices[i]]['text']\n",
    "    status = \"✅ Correct\" if pred == true else \"❌ Incorrect\"\n",
    "    print(f\"{status} | Text: {text}\\n  Predicted: {label_names[pred]}, Actual: {label_names[true]}\\n\")\n"
   ]
  },
  {
   "cell_type": "code",
   "execution_count": 14,
   "id": "363d5440",
   "metadata": {
    "execution": {
     "iopub.execute_input": "2025-06-14T07:50:12.741568Z",
     "iopub.status.busy": "2025-06-14T07:50:12.741150Z",
     "iopub.status.idle": "2025-06-14T07:50:12.753175Z",
     "shell.execute_reply": "2025-06-14T07:50:12.752623Z",
     "shell.execute_reply.started": "2025-06-14T07:50:12.741543Z"
    },
    "trusted": true
   },
   "outputs": [],
   "source": [
    "def predict_text(text):\n",
    "    model.eval()\n",
    "    encoded = tokenizer.encode_plus(\n",
    "        text,\n",
    "        add_special_tokens=True,\n",
    "        padding='max_length',\n",
    "        max_length=128,\n",
    "        truncation=True,\n",
    "        return_attention_mask=True,\n",
    "        return_tensors='pt'\n",
    "    )\n",
    "    input_ids = encoded['input_ids'].to(model.device)\n",
    "    attention_mask = encoded['attention_mask'].to(model.device)\n",
    "\n",
    "    with torch.no_grad():\n",
    "        outputs = model(input_ids, attention_mask=attention_mask)\n",
    "        logits = outputs.logits\n",
    "        predicted_class = torch.argmax(logits, dim=1).item()\n",
    "\n",
    "    print(f\"\\n Dự đoán cảm xúc: {label_names[predicted_class]}\")\n"
   ]
  },
  {
   "cell_type": "code",
   "execution_count": 15,
   "id": "3fae8892",
   "metadata": {
    "execution": {
     "iopub.execute_input": "2025-06-14T07:50:12.754261Z",
     "iopub.status.busy": "2025-06-14T07:50:12.754019Z",
     "iopub.status.idle": "2025-06-14T07:50:12.900470Z",
     "shell.execute_reply": "2025-06-14T07:50:12.899781Z",
     "shell.execute_reply.started": "2025-06-14T07:50:12.754239Z"
    },
    "trusted": true
   },
   "outputs": [
    {
     "name": "stdout",
     "output_type": "stream",
     "text": [
      "\n",
      " Bình luận: nghe bạn nam bảo : khổ thế nhờ đã dịch cô vít thì chớ mà xót🥺\n",
      "\n",
      " Dự đoán cảm xúc: Buồn bã\n",
      "\n",
      " Bình luận: mày giỡn mặt tao à?\n",
      "\n",
      " Dự đoán cảm xúc: Tức giận\n",
      "\n",
      " Bình luận: trời ơi vui quá đi 😍 hôm nay được nghỉ học\n",
      "\n",
      " Dự đoán cảm xúc: Vui vẻ\n",
      "\n",
      " Bình luận: bạn nữ đó nhìn buồn thật sự\n",
      "\n",
      " Dự đoán cảm xúc: Buồn bã\n",
      "\n",
      " Bình luận: tôi cảm thấy lo lắng khi ra đường bây giờ\n",
      "\n",
      " Dự đoán cảm xúc: Sợ hãi\n",
      "\n",
      " Bình luận: haiz, chẳng còn gì để nói nữa\n",
      "\n",
      " Dự đoán cảm xúc: Buồn bã\n",
      "\n",
      " Bình luận: mấy bạn bình tĩnh, chuyện đâu còn có đó\n",
      "\n",
      " Dự đoán cảm xúc: Khác\n",
      "\n",
      " Bình luận: cảm ơn bạn rất nhiều vì đã giúp tôi\n",
      "\n",
      " Dự đoán cảm xúc: Vui vẻ\n",
      "\n",
      " Bình luận: tôi ghét cái cách bạn đối xử với tôi\n",
      "\n",
      " Dự đoán cảm xúc: Tức giận\n",
      "\n",
      " Bình luận: mình rất hồi hộp chờ kết quả thi\n",
      "\n",
      " Dự đoán cảm xúc: Vui vẻ\n"
     ]
    }
   ],
   "source": [
    "test_texts = [\n",
    "    \"nghe bạn nam bảo : khổ thế nhờ đã dịch cô vít thì chớ mà xót🥺\",\n",
    "    \"mày giỡn mặt tao à?\",\n",
    "    \"trời ơi vui quá đi 😍 hôm nay được nghỉ học\",\n",
    "    \"bạn nữ đó nhìn buồn thật sự\",\n",
    "    \"tôi cảm thấy lo lắng khi ra đường bây giờ\",\n",
    "    \"haiz, chẳng còn gì để nói nữa\",\n",
    "    \"mấy bạn bình tĩnh, chuyện đâu còn có đó\",\n",
    "    \"cảm ơn bạn rất nhiều vì đã giúp tôi\",\n",
    "    \"tôi ghét cái cách bạn đối xử với tôi\",\n",
    "    \"mình rất hồi hộp chờ kết quả thi\"\n",
    "]\n",
    "\n",
    "for text in test_texts:\n",
    "    print(f\"\\n Bình luận: {text}\")\n",
    "    predict_text(text)\n"
   ]
  },
  {
   "cell_type": "code",
   "execution_count": 16,
   "id": "4b89e833-3c98-4dcf-a8e6-93e6533dde7e",
   "metadata": {
    "execution": {
     "iopub.execute_input": "2025-06-14T07:50:12.901722Z",
     "iopub.status.busy": "2025-06-14T07:50:12.901422Z",
     "iopub.status.idle": "2025-06-14T07:51:30.782054Z",
     "shell.execute_reply": "2025-06-14T07:51:30.781293Z",
     "shell.execute_reply.started": "2025-06-14T07:50:12.901687Z"
    },
    "trusted": true
   },
   "outputs": [
    {
     "name": "stdout",
     "output_type": "stream",
     "text": [
      "  adding: kaggle/working/ (stored 0%)\n",
      "  adding: kaggle/working/.virtual_documents/ (stored 0%)\n",
      "  adding: kaggle/working/visobert/ (stored 0%)\n",
      "  adding: kaggle/working/visobert/config.json (deflated 53%)\n",
      "  adding: kaggle/working/visobert/tokenizer.json (deflated 79%)\n",
      "  adding: kaggle/working/visobert/tokenizer_config.json (deflated 76%)\n",
      "  adding: kaggle/working/visobert/model.safetensors"
     ]
    },
    {
     "name": "stderr",
     "output_type": "stream",
     "text": [
      "huggingface/tokenizers: The current process just got forked, after parallelism has already been used. Disabling parallelism to avoid deadlocks...\n",
      "To disable this warning, you can either:\n",
      "\t- Avoid using `tokenizers` before the fork if possible\n",
      "\t- Explicitly set the environment variable TOKENIZERS_PARALLELISM=(true | false)\n"
     ]
    },
    {
     "name": "stdout",
     "output_type": "stream",
     "text": [
      " (deflated 7%)\n",
      "  adding: kaggle/working/visobert/special_tokens_map.json (deflated 52%)\n",
      "  adding: kaggle/working/visobert/sentencepiece.bpe.model (deflated 50%)\n",
      "  adding: kaggle/working/best_model.pth (deflated 14%)\n"
     ]
    }
   ],
   "source": [
    "!zip -r /kaggle/working/visobert.zip /kaggle/working"
   ]
  }
 ],
 "metadata": {
  "kaggle": {
   "accelerator": "gpu",
   "dataSources": [
    {
     "databundleVersionId": 12696640,
     "datasetId": 7467876,
     "sourceId": 12161035,
     "sourceType": "datasetVersion"
    }
   ],
   "dockerImageVersionId": 31041,
   "isGpuEnabled": true,
   "isInternetEnabled": true,
   "language": "python",
   "sourceType": "notebook"
  },
  "kernelspec": {
   "display_name": "Python 3",
   "language": "python",
   "name": "python3"
  },
  "language_info": {
   "codemirror_mode": {
    "name": "ipython",
    "version": 3
   },
   "file_extension": ".py",
   "mimetype": "text/x-python",
   "name": "python",
   "nbconvert_exporter": "python",
   "pygments_lexer": "ipython3",
   "version": "3.11.11"
  }
 },
 "nbformat": 4,
 "nbformat_minor": 5
}
