{
 "cells": [
  {
   "cell_type": "code",
   "execution_count": 1,
   "id": "54fbb94c",
   "metadata": {
    "execution": {
     "iopub.execute_input": "2025-06-14T05:01:03.151668Z",
     "iopub.status.busy": "2025-06-14T05:01:03.151394Z",
     "iopub.status.idle": "2025-06-14T05:01:16.845423Z",
     "shell.execute_reply": "2025-06-14T05:01:16.844647Z",
     "shell.execute_reply.started": "2025-06-14T05:01:03.151648Z"
    },
    "trusted": true
   },
   "outputs": [],
   "source": [
    "import numpy as np\n",
    "import pandas as pd\n",
    "import torch\n",
    "from torch.utils.data import DataLoader, TensorDataset, random_split\n",
    "from transformers import AutoTokenizer, AutoModelForSequenceClassification\n",
    "import os\n",
    "import matplotlib.pyplot as plt\n",
    "from tqdm.notebook import tqdm\n",
    "from torch.optim import AdamW\n",
    "from sklearn.metrics import accuracy_score, precision_recall_fscore_support, classification_report, confusion_matrix\n",
    "from sklearn.utils.class_weight import compute_class_weight\n",
    "from torch.nn import CrossEntropyLoss\n",
    "import seaborn as sns"
   ]
  },
  {
   "cell_type": "code",
   "execution_count": 2,
   "id": "3e686abb",
   "metadata": {
    "execution": {
     "iopub.execute_input": "2025-06-14T05:01:16.847042Z",
     "iopub.status.busy": "2025-06-14T05:01:16.846666Z",
     "iopub.status.idle": "2025-06-14T05:01:16.850425Z",
     "shell.execute_reply": "2025-06-14T05:01:16.849633Z",
     "shell.execute_reply.started": "2025-06-14T05:01:16.847021Z"
    },
    "trusted": true
   },
   "outputs": [],
   "source": [
    "# Đường dẫn dữ liệu\n",
    "data_path = '/kaggle/input/tiktok_comments_balanced_v2.csv'"
   ]
  },
  {
   "cell_type": "code",
   "execution_count": 3,
   "id": "359a9497",
   "metadata": {
    "execution": {
     "iopub.execute_input": "2025-06-14T05:01:16.851519Z",
     "iopub.status.busy": "2025-06-14T05:01:16.851182Z",
     "iopub.status.idle": "2025-06-14T05:01:16.953905Z",
     "shell.execute_reply": "2025-06-14T05:01:16.953038Z",
     "shell.execute_reply.started": "2025-06-14T05:01:16.851488Z"
    },
    "trusted": true
   },
   "outputs": [],
   "source": [
    "# Đọc dữ liệu\n",
    "comments = pd.read_csv(data_path, usecols=['emotion_label', 'text'])\n",
    "comments = comments.dropna(subset=['emotion_label'])\n",
    "comments['emotion_label'] = comments['emotion_label'].astype(int)\n",
    "\n",
    "# Không xử lý gì văn bản — giữ nguyên\n",
    "comments['text'] = comments['text'].astype(str)"
   ]
  },
  {
   "cell_type": "code",
   "execution_count": 4,
   "id": "53743595",
   "metadata": {
    "execution": {
     "iopub.execute_input": "2025-06-14T05:01:16.954883Z",
     "iopub.status.busy": "2025-06-14T05:01:16.954680Z",
     "iopub.status.idle": "2025-06-14T05:01:37.039216Z",
     "shell.execute_reply": "2025-06-14T05:01:37.038611Z",
     "shell.execute_reply.started": "2025-06-14T05:01:16.954866Z"
    },
    "trusted": true
   },
   "outputs": [
    {
     "data": {
      "application/vnd.jupyter.widget-view+json": {
       "model_id": "3b1870c534c24e9d87a248cadd9f75f1",
       "version_major": 2,
       "version_minor": 0
      },
      "text/plain": [
       "config.json:   0%|          | 0.00/557 [00:00<?, ?B/s]"
      ]
     },
     "metadata": {},
     "output_type": "display_data"
    },
    {
     "data": {
      "application/vnd.jupyter.widget-view+json": {
       "model_id": "0f1f163bbe86440ab59da4d708db7cd0",
       "version_major": 2,
       "version_minor": 0
      },
      "text/plain": [
       "vocab.txt:   0%|          | 0.00/895k [00:00<?, ?B/s]"
      ]
     },
     "metadata": {},
     "output_type": "display_data"
    },
    {
     "data": {
      "application/vnd.jupyter.widget-view+json": {
       "model_id": "a671324c151d493b80fb30d446c3b602",
       "version_major": 2,
       "version_minor": 0
      },
      "text/plain": [
       "bpe.codes:   0%|          | 0.00/1.14M [00:00<?, ?B/s]"
      ]
     },
     "metadata": {},
     "output_type": "display_data"
    },
    {
     "data": {
      "application/vnd.jupyter.widget-view+json": {
       "model_id": "04e3e1c63cce4fe79e1815d555ec2e8f",
       "version_major": 2,
       "version_minor": 0
      },
      "text/plain": [
       "tokenizer.json:   0%|          | 0.00/3.13M [00:00<?, ?B/s]"
      ]
     },
     "metadata": {},
     "output_type": "display_data"
    },
    {
     "name": "stderr",
     "output_type": "stream",
     "text": [
      "2025-06-14 05:01:22.119095: E external/local_xla/xla/stream_executor/cuda/cuda_fft.cc:477] Unable to register cuFFT factory: Attempting to register factory for plugin cuFFT when one has already been registered\n",
      "WARNING: All log messages before absl::InitializeLog() is called are written to STDERR\n",
      "E0000 00:00:1749877282.351234      35 cuda_dnn.cc:8310] Unable to register cuDNN factory: Attempting to register factory for plugin cuDNN when one has already been registered\n",
      "E0000 00:00:1749877282.426222      35 cuda_blas.cc:1418] Unable to register cuBLAS factory: Attempting to register factory for plugin cuBLAS when one has already been registered\n"
     ]
    },
    {
     "data": {
      "application/vnd.jupyter.widget-view+json": {
       "model_id": "923b316f99cc4a1281c9a35a9d808f7b",
       "version_major": 2,
       "version_minor": 0
      },
      "text/plain": [
       "pytorch_model.bin:   0%|          | 0.00/543M [00:00<?, ?B/s]"
      ]
     },
     "metadata": {},
     "output_type": "display_data"
    },
    {
     "name": "stderr",
     "output_type": "stream",
     "text": [
      "Some weights of RobertaForSequenceClassification were not initialized from the model checkpoint at vinai/phobert-base and are newly initialized: ['classifier.dense.bias', 'classifier.dense.weight', 'classifier.out_proj.bias', 'classifier.out_proj.weight']\n",
      "You should probably TRAIN this model on a down-stream task to be able to use it for predictions and inference.\n"
     ]
    }
   ],
   "source": [
    "# Tokenizer và Model\n",
    "model_name = \"vinai/phobert-base\"\n",
    "tokenizer = AutoTokenizer.from_pretrained(model_name, use_fast=False)\n",
    "num_labels = 5\n",
    "model = AutoModelForSequenceClassification.from_pretrained(model_name, num_labels=num_labels)"
   ]
  },
  {
   "cell_type": "code",
   "execution_count": 5,
   "id": "84e042e5",
   "metadata": {
    "execution": {
     "iopub.execute_input": "2025-06-14T05:01:37.041719Z",
     "iopub.status.busy": "2025-06-14T05:01:37.041213Z",
     "iopub.status.idle": "2025-06-14T05:01:39.381900Z",
     "shell.execute_reply": "2025-06-14T05:01:39.380986Z",
     "shell.execute_reply.started": "2025-06-14T05:01:37.041699Z"
    },
    "trusted": true
   },
   "outputs": [
    {
     "data": {
      "application/vnd.jupyter.widget-view+json": {
       "model_id": "1dbf479b1841485c95b71675ef94d7bb",
       "version_major": 2,
       "version_minor": 0
      },
      "text/plain": [
       "model.safetensors:   0%|          | 0.00/543M [00:00<?, ?B/s]"
      ]
     },
     "metadata": {},
     "output_type": "display_data"
    }
   ],
   "source": [
    "# Mã hóa dữ liệu\n",
    "encoded_comments = tokenizer.batch_encode_plus(\n",
    "    comments['text'].tolist(),\n",
    "    add_special_tokens=True,\n",
    "    padding='max_length',\n",
    "    max_length=128,\n",
    "    truncation=True,\n",
    "    return_attention_mask=True,\n",
    "    return_tensors='pt'\n",
    ")\n",
    "\n",
    "input_ids = encoded_comments['input_ids']\n",
    "attention_masks = encoded_comments['attention_mask']\n",
    "labels = torch.tensor(comments['emotion_label'].values)\n",
    "\n",
    "dataset = TensorDataset(input_ids, attention_masks, labels)"
   ]
  },
  {
   "cell_type": "code",
   "execution_count": 6,
   "id": "f55fd9a3",
   "metadata": {
    "execution": {
     "iopub.execute_input": "2025-06-14T05:01:39.383291Z",
     "iopub.status.busy": "2025-06-14T05:01:39.382952Z",
     "iopub.status.idle": "2025-06-14T05:01:39.389810Z",
     "shell.execute_reply": "2025-06-14T05:01:39.389242Z",
     "shell.execute_reply.started": "2025-06-14T05:01:39.383259Z"
    },
    "trusted": true
   },
   "outputs": [],
   "source": [
    "# Chia tập train/val\n",
    "train_size = int(0.9 * len(dataset))\n",
    "val_size = len(dataset) - train_size\n",
    "train_dataset, val_dataset = random_split(dataset, [train_size, val_size])\n",
    "batch_size = 16\n",
    "train_loader = DataLoader(train_dataset, batch_size=batch_size, shuffle=True)\n",
    "val_loader = DataLoader(val_dataset, batch_size=batch_size)"
   ]
  },
  {
   "cell_type": "code",
   "execution_count": 7,
   "id": "92514ba8-c3f9-47aa-860d-9a3d796b47c1",
   "metadata": {
    "execution": {
     "iopub.execute_input": "2025-06-14T05:01:39.391274Z",
     "iopub.status.busy": "2025-06-14T05:01:39.390982Z",
     "iopub.status.idle": "2025-06-14T05:01:39.444005Z",
     "shell.execute_reply": "2025-06-14T05:01:39.443037Z",
     "shell.execute_reply.started": "2025-06-14T05:01:39.391249Z"
    },
    "trusted": true
   },
   "outputs": [],
   "source": [
    "save_directory = '/kaggle/working/phobert-base'\n",
    "os.makedirs(save_directory, exist_ok=True)"
   ]
  },
  {
   "cell_type": "code",
   "execution_count": 8,
   "id": "34cc2525",
   "metadata": {
    "execution": {
     "iopub.execute_input": "2025-06-14T05:01:39.445090Z",
     "iopub.status.busy": "2025-06-14T05:01:39.444873Z",
     "iopub.status.idle": "2025-06-14T05:24:00.226360Z",
     "shell.execute_reply": "2025-06-14T05:24:00.225532Z",
     "shell.execute_reply.started": "2025-06-14T05:01:39.445073Z"
    },
    "trusted": true
   },
   "outputs": [
    {
     "data": {
      "application/vnd.jupyter.widget-view+json": {
       "model_id": "c3b45fb5c8e74bdfad455788e2e13ee0",
       "version_major": 2,
       "version_minor": 0
      },
      "text/plain": [
       "Training Epoch 1:   0%|          | 0/776 [00:00<?, ?it/s]"
      ]
     },
     "metadata": {},
     "output_type": "display_data"
    },
    {
     "data": {
      "application/vnd.jupyter.widget-view+json": {
       "model_id": "cdd506685f5041d182918cc3a28129a4",
       "version_major": 2,
       "version_minor": 0
      },
      "text/plain": [
       "Validation Epoch 1:   0%|          | 0/87 [00:00<?, ?it/s]"
      ]
     },
     "metadata": {},
     "output_type": "display_data"
    },
    {
     "name": "stdout",
     "output_type": "stream",
     "text": [
      "[Epoch 1] Train Loss: 1.1684 | Val Loss: 0.9845 | Val Accuracy: 0.6176\n"
     ]
    },
    {
     "data": {
      "application/vnd.jupyter.widget-view+json": {
       "model_id": "ffe24714044c42a2a5cd9571bf4067e3",
       "version_major": 2,
       "version_minor": 0
      },
      "text/plain": [
       "Training Epoch 2:   0%|          | 0/776 [00:00<?, ?it/s]"
      ]
     },
     "metadata": {},
     "output_type": "display_data"
    },
    {
     "data": {
      "application/vnd.jupyter.widget-view+json": {
       "model_id": "8091a8d5dab24286bce29876f6ccd188",
       "version_major": 2,
       "version_minor": 0
      },
      "text/plain": [
       "Validation Epoch 2:   0%|          | 0/87 [00:00<?, ?it/s]"
      ]
     },
     "metadata": {},
     "output_type": "display_data"
    },
    {
     "name": "stdout",
     "output_type": "stream",
     "text": [
      "[Epoch 2] Train Loss: 0.8380 | Val Loss: 0.9482 | Val Accuracy: 0.6321\n"
     ]
    },
    {
     "data": {
      "application/vnd.jupyter.widget-view+json": {
       "model_id": "70351b2c33c94abb895d0699c259fc7e",
       "version_major": 2,
       "version_minor": 0
      },
      "text/plain": [
       "Training Epoch 3:   0%|          | 0/776 [00:00<?, ?it/s]"
      ]
     },
     "metadata": {},
     "output_type": "display_data"
    },
    {
     "data": {
      "application/vnd.jupyter.widget-view+json": {
       "model_id": "3e9cce87bff141c89f71703f8884016e",
       "version_major": 2,
       "version_minor": 0
      },
      "text/plain": [
       "Validation Epoch 3:   0%|          | 0/87 [00:00<?, ?it/s]"
      ]
     },
     "metadata": {},
     "output_type": "display_data"
    },
    {
     "name": "stdout",
     "output_type": "stream",
     "text": [
      "[Epoch 3] Train Loss: 0.6489 | Val Loss: 1.0094 | Val Accuracy: 0.6633\n"
     ]
    },
    {
     "data": {
      "application/vnd.jupyter.widget-view+json": {
       "model_id": "8cfffcf3860b4fdc90a951de3aa76fdb",
       "version_major": 2,
       "version_minor": 0
      },
      "text/plain": [
       "Training Epoch 4:   0%|          | 0/776 [00:00<?, ?it/s]"
      ]
     },
     "metadata": {},
     "output_type": "display_data"
    },
    {
     "data": {
      "application/vnd.jupyter.widget-view+json": {
       "model_id": "8447233847c74e51842d08f28967c3d2",
       "version_major": 2,
       "version_minor": 0
      },
      "text/plain": [
       "Validation Epoch 4:   0%|          | 0/87 [00:00<?, ?it/s]"
      ]
     },
     "metadata": {},
     "output_type": "display_data"
    },
    {
     "name": "stdout",
     "output_type": "stream",
     "text": [
      "[Epoch 4] Train Loss: 0.4954 | Val Loss: 1.0321 | Val Accuracy: 0.6509\n"
     ]
    },
    {
     "data": {
      "application/vnd.jupyter.widget-view+json": {
       "model_id": "d2ac7c1789994658a4912604904b7e4f",
       "version_major": 2,
       "version_minor": 0
      },
      "text/plain": [
       "Training Epoch 5:   0%|          | 0/776 [00:00<?, ?it/s]"
      ]
     },
     "metadata": {},
     "output_type": "display_data"
    },
    {
     "data": {
      "application/vnd.jupyter.widget-view+json": {
       "model_id": "f0b9f4a3accb4a5f94cec9f3784d167b",
       "version_major": 2,
       "version_minor": 0
      },
      "text/plain": [
       "Validation Epoch 5:   0%|          | 0/87 [00:00<?, ?it/s]"
      ]
     },
     "metadata": {},
     "output_type": "display_data"
    },
    {
     "name": "stdout",
     "output_type": "stream",
     "text": [
      "[Epoch 5] Train Loss: 0.3685 | Val Loss: 1.0979 | Val Accuracy: 0.6640\n"
     ]
    },
    {
     "data": {
      "application/vnd.jupyter.widget-view+json": {
       "model_id": "647eb2e2c4d04aae8cc004e1c7f25ac0",
       "version_major": 2,
       "version_minor": 0
      },
      "text/plain": [
       "Training Epoch 6:   0%|          | 0/776 [00:00<?, ?it/s]"
      ]
     },
     "metadata": {},
     "output_type": "display_data"
    },
    {
     "data": {
      "application/vnd.jupyter.widget-view+json": {
       "model_id": "a83b11410c85422fbbc14489a9e8464f",
       "version_major": 2,
       "version_minor": 0
      },
      "text/plain": [
       "Validation Epoch 6:   0%|          | 0/87 [00:00<?, ?it/s]"
      ]
     },
     "metadata": {},
     "output_type": "display_data"
    },
    {
     "name": "stdout",
     "output_type": "stream",
     "text": [
      "[Epoch 6] Train Loss: 0.2765 | Val Loss: 1.2778 | Val Accuracy: 0.6451\n"
     ]
    },
    {
     "data": {
      "application/vnd.jupyter.widget-view+json": {
       "model_id": "8dc6294a7c2f4510a1c0ce4b78cf9249",
       "version_major": 2,
       "version_minor": 0
      },
      "text/plain": [
       "Training Epoch 7:   0%|          | 0/776 [00:00<?, ?it/s]"
      ]
     },
     "metadata": {},
     "output_type": "display_data"
    },
    {
     "data": {
      "application/vnd.jupyter.widget-view+json": {
       "model_id": "899717daa8fc402f82bfd3baedec8a5e",
       "version_major": 2,
       "version_minor": 0
      },
      "text/plain": [
       "Validation Epoch 7:   0%|          | 0/87 [00:00<?, ?it/s]"
      ]
     },
     "metadata": {},
     "output_type": "display_data"
    },
    {
     "name": "stdout",
     "output_type": "stream",
     "text": [
      "[Epoch 7] Train Loss: 0.2221 | Val Loss: 1.4476 | Val Accuracy: 0.6611\n"
     ]
    },
    {
     "data": {
      "application/vnd.jupyter.widget-view+json": {
       "model_id": "143a53f44d654ec1817c3b03c7fda454",
       "version_major": 2,
       "version_minor": 0
      },
      "text/plain": [
       "Training Epoch 8:   0%|          | 0/776 [00:00<?, ?it/s]"
      ]
     },
     "metadata": {},
     "output_type": "display_data"
    },
    {
     "data": {
      "application/vnd.jupyter.widget-view+json": {
       "model_id": "b09b5b6df8f04f8ea733ea0af5990b68",
       "version_major": 2,
       "version_minor": 0
      },
      "text/plain": [
       "Validation Epoch 8:   0%|          | 0/87 [00:00<?, ?it/s]"
      ]
     },
     "metadata": {},
     "output_type": "display_data"
    },
    {
     "name": "stdout",
     "output_type": "stream",
     "text": [
      "[Epoch 8] Train Loss: 0.1931 | Val Loss: 1.4184 | Val Accuracy: 0.6524\n",
      "Early stopping tại epoch 8 (val_acc không cải thiện sau 3 epoch)\n",
      "\n",
      "Training completed!\n",
      "Best Validation Accuracy: 0.6640\n"
     ]
    },
    {
     "data": {
      "text/plain": [
       "('/kaggle/working/phobert-base/tokenizer_config.json',\n",
       " '/kaggle/working/phobert-base/special_tokens_map.json',\n",
       " '/kaggle/working/phobert-base/vocab.txt',\n",
       " '/kaggle/working/phobert-base/bpe.codes',\n",
       " '/kaggle/working/phobert-base/added_tokens.json')"
      ]
     },
     "execution_count": 8,
     "metadata": {},
     "output_type": "execute_result"
    }
   ],
   "source": [
    "# Thiết bị\n",
    "device = torch.device('cuda' if torch.cuda.is_available() else 'cpu')\n",
    "model.to(device)\n",
    "\n",
    "# Tính class weights\n",
    "all_labels = []\n",
    "for batch in train_loader:\n",
    "    _, _, labels = batch\n",
    "    all_labels.extend(labels.numpy())\n",
    "all_labels = np.array(all_labels)\n",
    "\n",
    "class_weights = compute_class_weight(class_weight='balanced', classes=np.unique(all_labels), y=all_labels)\n",
    "class_weights = torch.tensor(class_weights, dtype=torch.float).to(device)\n",
    "loss_fn = CrossEntropyLoss(weight=class_weights)\n",
    "\n",
    "# Optimizer\n",
    "optimizer = AdamW(model.parameters(), lr=5e-5)\n",
    "\n",
    "# Training loop\n",
    "num_epochs = 10\n",
    "patience = 3\n",
    "best_accuracy = 0\n",
    "patience_counter = 0\n",
    "\n",
    "train_losses = []\n",
    "val_losses = []\n",
    "val_accuracies = []\n",
    "\n",
    "for epoch in range(num_epochs):\n",
    "    model.train()\n",
    "    total_loss = 0\n",
    "    for batch in tqdm(train_loader, desc=f\"Training Epoch {epoch+1}\"):\n",
    "        input_ids, attention_mask, labels = [x.to(device) for x in batch]\n",
    "        optimizer.zero_grad()\n",
    "        outputs = model(input_ids, attention_mask=attention_mask)\n",
    "        loss = loss_fn(outputs.logits, labels)\n",
    "        loss.backward()\n",
    "        optimizer.step()\n",
    "        total_loss += loss.item()\n",
    "\n",
    "    avg_train_loss = total_loss / len(train_loader)\n",
    "    train_losses.append(avg_train_loss)\n",
    "\n",
    "    # Validation\n",
    "    model.eval()\n",
    "    true_labels, pred_labels = [], []\n",
    "    val_loss = 0\n",
    "    with torch.no_grad():\n",
    "        for batch in tqdm(val_loader, desc=f\"Validation Epoch {epoch+1}\"):\n",
    "            input_ids, attention_mask, labels = [x.to(device) for x in batch]\n",
    "            outputs = model(input_ids, attention_mask=attention_mask)\n",
    "            loss = loss_fn(outputs.logits, labels)\n",
    "            val_loss += loss.item()\n",
    "            preds = torch.argmax(outputs.logits, dim=1)\n",
    "            pred_labels.extend(preds.cpu().numpy())\n",
    "            true_labels.extend(labels.cpu().numpy())\n",
    "\n",
    "    avg_val_loss = val_loss / len(val_loader)\n",
    "    val_losses.append(avg_val_loss)\n",
    "    accuracy = accuracy_score(true_labels, pred_labels)\n",
    "    val_accuracies.append(accuracy)\n",
    "\n",
    "    print(f\"[Epoch {epoch+1}] Train Loss: {avg_train_loss:.4f} | \"\n",
    "          f\"Val Loss: {avg_val_loss:.4f} | Val Accuracy: {accuracy:.4f}\")\n",
    "\n",
    "    # Early stopping\n",
    "    if accuracy > best_accuracy:\n",
    "        best_accuracy = accuracy\n",
    "        patience_counter = 0\n",
    "        torch.save({\n",
    "            'epoch': epoch + 1,\n",
    "            'model_state_dict': model.state_dict(),\n",
    "            'optimizer_state_dict': optimizer.state_dict(),\n",
    "            'val_accuracy': accuracy,\n",
    "            'loss': avg_val_loss\n",
    "        }, \"best_model.pth\")\n",
    "    else:\n",
    "        patience_counter += 1\n",
    "        if patience_counter >= patience:\n",
    "            print(f\"Early stopping tại epoch {epoch+1} (val_acc không cải thiện sau {patience} epoch)\")\n",
    "            break\n",
    "\n",
    "print(\"\\nTraining completed!\")\n",
    "print(f\"Best Validation Accuracy: {best_accuracy:.4f}\")\n",
    "\n",
    "# Lưu model\n",
    "model.save_pretrained(save_directory)\n",
    "tokenizer.save_pretrained(save_directory)"
   ]
  },
  {
   "cell_type": "code",
   "execution_count": 9,
   "id": "ce204690-e8b9-446e-8210-4ad73660efc6",
   "metadata": {
    "execution": {
     "iopub.execute_input": "2025-06-14T05:24:00.227302Z",
     "iopub.status.busy": "2025-06-14T05:24:00.227014Z",
     "iopub.status.idle": "2025-06-14T05:24:00.230792Z",
     "shell.execute_reply": "2025-06-14T05:24:00.230098Z",
     "shell.execute_reply.started": "2025-06-14T05:24:00.227284Z"
    },
    "trusted": true
   },
   "outputs": [],
   "source": [
    "# Dự đoán mẫu\n",
    "label_names = {\n",
    "    0: 'Vui vẻ',\n",
    "    1: 'Tức giận',\n",
    "    2: 'Buồn bã',\n",
    "    3: 'Sợ hãi',\n",
    "    4: 'Khác'\n",
    "}"
   ]
  },
  {
   "cell_type": "code",
   "execution_count": null,
   "id": "aa4d95e5-5fa5-45fc-8cb2-7de038e466d6",
   "metadata": {
    "execution": {
     "iopub.execute_input": "2025-06-14T05:26:23.901956Z",
     "iopub.status.busy": "2025-06-14T05:26:23.901522Z",
     "iopub.status.idle": "2025-06-14T05:26:30.087797Z",
     "shell.execute_reply": "2025-06-14T05:26:30.087226Z",
     "shell.execute_reply.started": "2025-06-14T05:26:23.901925Z"
    },
    "trusted": true
   },
   "outputs": [
    {
     "data": {
      "application/vnd.jupyter.widget-view+json": {
       "model_id": "f527f673a7d5408cb690f0d54a097bcd",
       "version_major": 2,
       "version_minor": 0
      },
      "text/plain": [
       "Predicting Best Model:   0%|          | 0/87 [00:00<?, ?it/s]"
      ]
     },
     "metadata": {},
     "output_type": "display_data"
    },
    {
     "name": "stdout",
     "output_type": "stream",
     "text": [
      "              precision    recall  f1-score   support\n",
      "\n",
      "      Vui vẻ     0.5691    0.6157    0.5915       281\n",
      "    Tức giận     0.6119    0.6530    0.6318       268\n",
      "     Buồn bã     0.7159    0.6319    0.6713       307\n",
      "      Sợ hãi     0.7806    0.8378    0.8082       259\n",
      "        Khác     0.6527    0.5932    0.6215       263\n",
      "\n",
      "    accuracy                         0.6640      1378\n",
      "   macro avg     0.6660    0.6663    0.6648      1378\n",
      "weighted avg     0.6658    0.6640    0.6636      1378\n",
      "\n"
     ]
    }
   ],
   "source": [
    "checkpoint = torch.load(\"best_model.pth\", map_location=device, weights_only=False)\n",
    "model.load_state_dict(checkpoint['model_state_dict'])\n",
    "model.eval()\n",
    "\n",
    "true_labels, pred_labels = [], []\n",
    "with torch.no_grad():\n",
    "    for batch in tqdm(val_loader, desc=\"Predicting Best Model\"):\n",
    "        input_ids, attention_mask, labels = [x.to(device) for x in batch]\n",
    "        outputs = model(input_ids, attention_mask=attention_mask)\n",
    "        preds = torch.argmax(outputs.logits, dim=1)\n",
    "        pred_labels.extend(preds.cpu().numpy())\n",
    "        true_labels.extend(labels.cpu().numpy())\n",
    "\n",
    "print(classification_report(true_labels, pred_labels, target_names=list(label_names.values()), digits=4))"
   ]
  },
  {
   "cell_type": "code",
   "execution_count": 19,
   "id": "de12908d-02d1-4a9e-9315-e39a18813c70",
   "metadata": {
    "execution": {
     "iopub.execute_input": "2025-06-14T05:27:15.756387Z",
     "iopub.status.busy": "2025-06-14T05:27:15.755771Z",
     "iopub.status.idle": "2025-06-14T05:27:16.011827Z",
     "shell.execute_reply": "2025-06-14T05:27:16.011068Z",
     "shell.execute_reply.started": "2025-06-14T05:27:15.756365Z"
    },
    "trusted": true
   },
   "outputs": [
    {
     "data": {
      "image/png": "[encoded data removed]",
      "text/plain": [
       "<Figure size 800x600 with 2 Axes>"
      ]
     },
     "metadata": {},
     "output_type": "display_data"
    }
   ],
   "source": [
    "# Ma trận nhầm lẫn\n",
    "cm = confusion_matrix(true_labels, pred_labels)\n",
    "labels = list(label_names.values())\n",
    "\n",
    "plt.figure(figsize=(8, 6))\n",
    "sns.heatmap(cm, annot=True, fmt='d', cmap='Blues', xticklabels=labels, yticklabels=labels)\n",
    "plt.xlabel('Predicted Label')\n",
    "plt.ylabel('True Label')\n",
    "plt.title('Confusion Matrix')\n",
    "plt.tight_layout()\n",
    "plt.show()"
   ]
  },
  {
   "cell_type": "code",
   "execution_count": 12,
   "id": "d1e4aced",
   "metadata": {
    "execution": {
     "iopub.execute_input": "2025-06-14T05:24:00.673622Z",
     "iopub.status.busy": "2025-06-14T05:24:00.673419Z",
     "iopub.status.idle": "2025-06-14T05:24:02.303719Z",
     "shell.execute_reply": "2025-06-14T05:24:02.303029Z",
     "shell.execute_reply.started": "2025-06-14T05:24:00.673607Z"
    },
    "trusted": true
   },
   "outputs": [
    {
     "name": "stdout",
     "output_type": "stream",
     "text": [
      "\n",
      "Đã load mô hình tốt nhất tại epoch 5 với val_acc = 0.6640\n"
     ]
    }
   ],
   "source": [
    "# Load lại mô hình tốt nhất từ file .pth\n",
    "checkpoint = torch.load(\"best_model.pth\", map_location=device, weights_only=False)\n",
    "model.load_state_dict(checkpoint['model_state_dict'])\n",
    "optimizer.load_state_dict(checkpoint['optimizer_state_dict'])\n",
    "model.to(device)\n",
    "print(f\"\\nĐã load mô hình tốt nhất tại epoch {checkpoint['epoch']} với val_acc = {checkpoint['val_accuracy']:.4f}\")"
   ]
  },
  {
   "cell_type": "code",
   "execution_count": 24,
   "id": "b4cfb8e1",
   "metadata": {
    "execution": {
     "iopub.execute_input": "2025-06-14T05:27:43.727421Z",
     "iopub.status.busy": "2025-06-14T05:27:43.726981Z",
     "iopub.status.idle": "2025-06-14T05:27:43.737027Z",
     "shell.execute_reply": "2025-06-14T05:27:43.734999Z",
     "shell.execute_reply.started": "2025-06-14T05:27:43.727385Z"
    },
    "trusted": true
   },
   "outputs": [
    {
     "name": "stdout",
     "output_type": "stream",
     "text": [
      "\n",
      "--- Examples of Predictions ---\n",
      "✅ Correct | Text: họ còn đk sốg còn đk làm lại cđời nhưg bé đó thì ko\n",
      "  Predicted: Buồn bã, Actual: Buồn bã\n",
      "\n",
      "❌ Incorrect | Text: hiếu\n",
      "  Predicted: Khác, Actual: Vui vẻ\n",
      "\n",
      "✅ Correct | Text: người đàn_ông của gia_đình\n",
      "  Predicted: Vui vẻ, Actual: Vui vẻ\n",
      "\n",
      "❌ Incorrect | Text: phương thất_bại\n",
      "  Predicted: Buồn bã, Actual: Vui vẻ\n",
      "\n",
      "❌ Incorrect | Text: k thấy gặp tao nhỉ\n",
      "  Predicted: Vui vẻ, Actual: Khác\n",
      "\n",
      "✅ Correct | Text: cấp_cứu v chết ngta rồi\n",
      "  Predicted: Sợ hãi, Actual: Sợ hãi\n",
      "\n",
      "❌ Incorrect | Text: bọn bắc có gì lạ\n",
      "  Predicted: Khác, Actual: Vui vẻ\n",
      "\n",
      "✅ Correct | Text: vãi sợ khúc cuối ghê nổ cái bum luôn\n",
      "  Predicted: Sợ hãi, Actual: Sợ hãi\n",
      "\n",
      "❌ Incorrect | Text: tưởng an_ninh lắm\n",
      "  Predicted: Tức giận, Actual: Vui vẻ\n",
      "\n",
      "✅ Correct | Text: thương quá còn ng còn của mong_gđ vượt qua khó_khăn này\n",
      "  Predicted: Buồn bã, Actual: Buồn bã\n",
      "\n"
     ]
    }
   ],
   "source": [
    "print(\"\\n--- Examples of Predictions ---\")\n",
    "for i in range(10):\n",
    "    pred = pred_labels[i]\n",
    "    true = true_labels[i]\n",
    "    text = comments.iloc[val_dataset.indices[i]]['text']\n",
    "    status = \"✅ Correct\" if pred == true else \"❌ Incorrect\"\n",
    "    print(f\"{status} | Text: {text}\\n  Predicted: {label_names[pred]}, Actual: {label_names[true]}\\n\")\n"
   ]
  },
  {
   "cell_type": "code",
   "execution_count": 14,
   "id": "363d5440",
   "metadata": {
    "execution": {
     "iopub.execute_input": "2025-06-14T05:24:02.312731Z",
     "iopub.status.busy": "2025-06-14T05:24:02.312482Z",
     "iopub.status.idle": "2025-06-14T05:24:02.336950Z",
     "shell.execute_reply": "2025-06-14T05:24:02.336235Z",
     "shell.execute_reply.started": "2025-06-14T05:24:02.312714Z"
    },
    "trusted": true
   },
   "outputs": [],
   "source": [
    "def predict_text(text):\n",
    "    model.eval()\n",
    "    encoded = tokenizer.encode_plus(\n",
    "        text,\n",
    "        add_special_tokens=True,\n",
    "        padding='max_length',\n",
    "        max_length=128,\n",
    "        truncation=True,\n",
    "        return_attention_mask=True,\n",
    "        return_tensors='pt'\n",
    "    )\n",
    "    input_ids = encoded['input_ids'].to(model.device)\n",
    "    attention_mask = encoded['attention_mask'].to(model.device)\n",
    "\n",
    "    with torch.no_grad():\n",
    "        outputs = model(input_ids, attention_mask=attention_mask)\n",
    "        logits = outputs.logits\n",
    "        predicted_class = torch.argmax(logits, dim=1).item()\n",
    "\n",
    "    print(f\"\\n Dự đoán cảm xúc: {label_names[predicted_class]}\")\n"
   ]
  },
  {
   "cell_type": "code",
   "execution_count": 15,
   "id": "3fae8892",
   "metadata": {
    "execution": {
     "iopub.execute_input": "2025-06-14T05:24:02.338061Z",
     "iopub.status.busy": "2025-06-14T05:24:02.337854Z",
     "iopub.status.idle": "2025-06-14T05:24:02.536625Z",
     "shell.execute_reply": "2025-06-14T05:24:02.535970Z",
     "shell.execute_reply.started": "2025-06-14T05:24:02.338046Z"
    },
    "trusted": true
   },
   "outputs": [
    {
     "name": "stdout",
     "output_type": "stream",
     "text": [
      "\n",
      " Bình luận: nghe bạn nam bảo : khổ thế nhờ đã dịch cô vít thì chớ mà xót🥺\n",
      "\n",
      " Dự đoán cảm xúc: Buồn bã\n",
      "\n",
      " Bình luận: mày giỡn mặt tao à?\n",
      "\n",
      " Dự đoán cảm xúc: Tức giận\n",
      "\n",
      " Bình luận: trời ơi vui quá đi 😍 hôm nay được nghỉ học\n",
      "\n",
      " Dự đoán cảm xúc: Vui vẻ\n",
      "\n",
      " Bình luận: bạn nữ đó nhìn buồn thật sự\n",
      "\n",
      " Dự đoán cảm xúc: Buồn bã\n",
      "\n",
      " Bình luận: tôi cảm thấy lo lắng khi ra đường bây giờ\n",
      "\n",
      " Dự đoán cảm xúc: Sợ hãi\n",
      "\n",
      " Bình luận: haiz, chẳng còn gì để nói nữa\n",
      "\n",
      " Dự đoán cảm xúc: Buồn bã\n",
      "\n",
      " Bình luận: mấy bạn bình tĩnh, chuyện đâu còn có đó\n",
      "\n",
      " Dự đoán cảm xúc: Buồn bã\n",
      "\n",
      " Bình luận: cảm ơn bạn rất nhiều vì đã giúp tôi\n",
      "\n",
      " Dự đoán cảm xúc: Vui vẻ\n",
      "\n",
      " Bình luận: tôi ghét cái cách bạn đối xử với tôi\n",
      "\n",
      " Dự đoán cảm xúc: Tức giận\n",
      "\n",
      " Bình luận: mình rất hồi hộp chờ kết quả thi\n",
      "\n",
      " Dự đoán cảm xúc: Vui vẻ\n"
     ]
    }
   ],
   "source": [
    "test_texts = [\n",
    "    \"nghe bạn nam bảo : khổ thế nhờ đã dịch cô vít thì chớ mà xót🥺\",\n",
    "    \"mày giỡn mặt tao à?\",\n",
    "    \"trời ơi vui quá đi 😍 hôm nay được nghỉ học\",\n",
    "    \"bạn nữ đó nhìn buồn thật sự\",\n",
    "    \"tôi cảm thấy lo lắng khi ra đường bây giờ\",\n",
    "    \"haiz, chẳng còn gì để nói nữa\",\n",
    "    \"mấy bạn bình tĩnh, chuyện đâu còn có đó\",\n",
    "    \"cảm ơn bạn rất nhiều vì đã giúp tôi\",\n",
    "    \"tôi ghét cái cách bạn đối xử với tôi\",\n",
    "    \"mình rất hồi hộp chờ kết quả thi\"\n",
    "]\n",
    "\n",
    "for text in test_texts:\n",
    "    print(f\"\\n Bình luận: {text}\")\n",
    "    predict_text(text)\n"
   ]
  },
  {
   "cell_type": "code",
   "execution_count": 16,
   "id": "4b89e833-3c98-4dcf-a8e6-93e6533dde7e",
   "metadata": {
    "execution": {
     "iopub.execute_input": "2025-06-14T05:24:02.537610Z",
     "iopub.status.busy": "2025-06-14T05:24:02.537336Z",
     "iopub.status.idle": "2025-06-14T05:26:01.224033Z",
     "shell.execute_reply": "2025-06-14T05:26:01.223249Z",
     "shell.execute_reply.started": "2025-06-14T05:24:02.537588Z"
    },
    "trusted": true
   },
   "outputs": [
    {
     "name": "stdout",
     "output_type": "stream",
     "text": [
      "  adding: kaggle/working/ (stored 0%)\n",
      "  adding: kaggle/working/phobert-base/ (stored 0%)\n",
      "  adding: kaggle/working/phobert-base/special_tokens_map.json (deflated 57%)\n",
      "  adding: kaggle/working/phobert-base/model.safetensors (deflated 16%)\n",
      "  adding: kaggle/working/phobert-base/config.json (deflated 53%)\n",
      "  adding: kaggle/working/phobert-base/tokenizer_config.json (deflated 77%)\n",
      "  adding: kaggle/working/phobert-base/added_tokens.json (stored 0%)\n",
      "  adding: kaggle/working/phobert-base/vocab.txt (deflated 55%)\n",
      "  adding: kaggle/working/phobert-base/bpe.codes (deflated 59%)\n",
      "  adding: kaggle/working/best_model.pth (deflated 30%)\n",
      "  adding: kaggle/working/.virtual_documents/ (stored 0%)\n"
     ]
    }
   ],
   "source": [
    "!zip -r /kaggle/working/phobert-base.zip /kaggle/working"
   ]
  }
 ],
 "metadata": {
  "kaggle": {
   "accelerator": "gpu",
   "dataSources": [
    {
     "datasetId": 7467876,
     "sourceId": 12161035,
     "sourceType": "datasetVersion"
    }
   ],
   "dockerImageVersionId": 31041,
   "isGpuEnabled": true,
   "isInternetEnabled": true,
   "language": "python",
   "sourceType": "notebook"
  },
  "kernelspec": {
   "display_name": "Python 3",
   "language": "python",
   "name": "python3"
  },
  "language_info": {
   "codemirror_mode": {
    "name": "ipython",
    "version": 3
   },
   "file_extension": ".py",
   "mimetype": "text/x-python",
   "name": "python",
   "nbconvert_exporter": "python",
   "pygments_lexer": "ipython3",
   "version": "3.11.11"
  }
 },
 "nbformat": 4,
 "nbformat_minor": 5
}
