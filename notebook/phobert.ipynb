{
 "cells": [
  {
   "cell_type": "code",
   "execution_count": 1,
   "id": "54fbb94c",
   "metadata": {
    "execution": {
     "iopub.execute_input": "2025-05-21T16:20:50.723304Z",
     "iopub.status.busy": "2025-05-21T16:20:50.722608Z",
     "iopub.status.idle": "2025-05-21T16:21:02.463503Z",
     "shell.execute_reply": "2025-05-21T16:21:02.462717Z",
     "shell.execute_reply.started": "2025-05-21T16:20:50.723273Z"
    },
    "trusted": true
   },
   "outputs": [],
   "source": [
    "import numpy as np\n",
    "import pandas as pd\n",
    "import torch\n",
    "from torch.utils.data import DataLoader, TensorDataset, random_split\n",
    "from transformers import AutoTokenizer, AutoModelForSequenceClassification\n",
    "import os\n",
    "import matplotlib.pyplot as plt\n",
    "from tqdm.notebook import tqdm\n",
    "from torch.optim import AdamW\n",
    "from sklearn.metrics import accuracy_score, precision_recall_fscore_support, classification_report, confusion_matrix\n",
    "from sklearn.utils.class_weight import compute_class_weight\n",
    "from torch.nn import CrossEntropyLoss\n",
    "import seaborn as sns"
   ]
  },
  {
   "cell_type": "code",
   "execution_count": 2,
   "id": "3e686abb",
   "metadata": {
    "execution": {
     "iopub.execute_input": "2025-05-21T16:21:02.465127Z",
     "iopub.status.busy": "2025-05-21T16:21:02.464697Z",
     "iopub.status.idle": "2025-05-21T16:21:02.468516Z",
     "shell.execute_reply": "2025-05-21T16:21:02.467855Z",
     "shell.execute_reply.started": "2025-05-21T16:21:02.465105Z"
    },
    "trusted": true
   },
   "outputs": [],
   "source": [
    "# Đường dẫn dữ liệu\n",
    "data_path = '/kaggle/input/tiktok_comments_balanced.csv'"
   ]
  },
  {
   "cell_type": "code",
   "execution_count": 3,
   "id": "359a9497",
   "metadata": {
    "execution": {
     "iopub.execute_input": "2025-05-21T16:21:02.469611Z",
     "iopub.status.busy": "2025-05-21T16:21:02.469272Z",
     "iopub.status.idle": "2025-05-21T16:21:02.541719Z",
     "shell.execute_reply": "2025-05-21T16:21:02.541243Z",
     "shell.execute_reply.started": "2025-05-21T16:21:02.469581Z"
    },
    "trusted": true
   },
   "outputs": [],
   "source": [
    "# Đọc dữ liệu\n",
    "comments = pd.read_csv(data_path, usecols=['emotion_label', 'text'])\n",
    "comments = comments.dropna(subset=['emotion_label'])\n",
    "comments['emotion_label'] = comments['emotion_label'].astype(int)\n",
    "\n",
    "# Không xử lý gì văn bản — giữ nguyên\n",
    "comments['text'] = comments['text'].astype(str)"
   ]
  },
  {
   "cell_type": "code",
   "execution_count": 4,
   "id": "53743595",
   "metadata": {
    "execution": {
     "iopub.execute_input": "2025-05-21T16:21:02.543662Z",
     "iopub.status.busy": "2025-05-21T16:21:02.543462Z",
     "iopub.status.idle": "2025-05-21T16:21:52.271212Z",
     "shell.execute_reply": "2025-05-21T16:21:52.270450Z",
     "shell.execute_reply.started": "2025-05-21T16:21:02.543646Z"
    },
    "trusted": true
   },
   "outputs": [
    {
     "data": {
      "application/vnd.jupyter.widget-view+json": {
       "model_id": "f66417d5a2954056a980685495802706",
       "version_major": 2,
       "version_minor": 0
      },
      "text/plain": [
       "config.json:   0%|          | 0.00/557 [00:00<?, ?B/s]"
      ]
     },
     "metadata": {},
     "output_type": "display_data"
    },
    {
     "data": {
      "application/vnd.jupyter.widget-view+json": {
       "model_id": "4f6fc47a7abe4d199e594846449c674c",
       "version_major": 2,
       "version_minor": 0
      },
      "text/plain": [
       "vocab.txt:   0%|          | 0.00/895k [00:00<?, ?B/s]"
      ]
     },
     "metadata": {},
     "output_type": "display_data"
    },
    {
     "data": {
      "application/vnd.jupyter.widget-view+json": {
       "model_id": "368c70363d5343478d360ac90fe68588",
       "version_major": 2,
       "version_minor": 0
      },
      "text/plain": [
       "bpe.codes:   0%|          | 0.00/1.14M [00:00<?, ?B/s]"
      ]
     },
     "metadata": {},
     "output_type": "display_data"
    },
    {
     "data": {
      "application/vnd.jupyter.widget-view+json": {
       "model_id": "1c1c95f8db4b4d76a382d2cf3b936101",
       "version_major": 2,
       "version_minor": 0
      },
      "text/plain": [
       "tokenizer.json:   0%|          | 0.00/3.13M [00:00<?, ?B/s]"
      ]
     },
     "metadata": {},
     "output_type": "display_data"
    },
    {
     "name": "stderr",
     "output_type": "stream",
     "text": [
      "2025-05-21 16:21:09.194193: E external/local_xla/xla/stream_executor/cuda/cuda_fft.cc:477] Unable to register cuFFT factory: Attempting to register factory for plugin cuFFT when one has already been registered\n",
      "WARNING: All log messages before absl::InitializeLog() is called are written to STDERR\n",
      "E0000 00:00:1747844469.371657      35 cuda_dnn.cc:8310] Unable to register cuDNN factory: Attempting to register factory for plugin cuDNN when one has already been registered\n",
      "E0000 00:00:1747844469.424275      35 cuda_blas.cc:1418] Unable to register cuBLAS factory: Attempting to register factory for plugin cuBLAS when one has already been registered\n"
     ]
    },
    {
     "data": {
      "application/vnd.jupyter.widget-view+json": {
       "model_id": "e505653ee6514077a01f882bb19a2efa",
       "version_major": 2,
       "version_minor": 0
      },
      "text/plain": [
       "pytorch_model.bin:   0%|          | 0.00/543M [00:00<?, ?B/s]"
      ]
     },
     "metadata": {},
     "output_type": "display_data"
    },
    {
     "name": "stderr",
     "output_type": "stream",
     "text": [
      "Some weights of RobertaForSequenceClassification were not initialized from the model checkpoint at vinai/phobert-base and are newly initialized: ['classifier.dense.bias', 'classifier.dense.weight', 'classifier.out_proj.bias', 'classifier.out_proj.weight']\n",
      "You should probably TRAIN this model on a down-stream task to be able to use it for predictions and inference.\n"
     ]
    }
   ],
   "source": [
    "# Tokenizer và Model\n",
    "model_name = \"vinai/phobert-base\"\n",
    "tokenizer = AutoTokenizer.from_pretrained(model_name, use_fast=False)\n",
    "num_labels = 5\n",
    "model = AutoModelForSequenceClassification.from_pretrained(model_name, num_labels=num_labels)"
   ]
  },
  {
   "cell_type": "code",
   "execution_count": 5,
   "id": "84e042e5",
   "metadata": {
    "execution": {
     "iopub.execute_input": "2025-05-21T16:21:52.272807Z",
     "iopub.status.busy": "2025-05-21T16:21:52.272093Z",
     "iopub.status.idle": "2025-05-21T16:21:54.657062Z",
     "shell.execute_reply": "2025-05-21T16:21:54.656456Z",
     "shell.execute_reply.started": "2025-05-21T16:21:52.272779Z"
    },
    "trusted": true
   },
   "outputs": [
    {
     "data": {
      "application/vnd.jupyter.widget-view+json": {
       "model_id": "1731b463b18d4a4bbb2bcc479f89dd6e",
       "version_major": 2,
       "version_minor": 0
      },
      "text/plain": [
       "model.safetensors:   0%|          | 0.00/543M [00:00<?, ?B/s]"
      ]
     },
     "metadata": {},
     "output_type": "display_data"
    }
   ],
   "source": [
    "# Mã hóa dữ liệu\n",
    "encoded_comments = tokenizer.batch_encode_plus(\n",
    "    comments['text'].tolist(),\n",
    "    add_special_tokens=True,\n",
    "    padding='max_length',\n",
    "    max_length=128,\n",
    "    truncation=True,\n",
    "    return_attention_mask=True,\n",
    "    return_tensors='pt'\n",
    ")\n",
    "\n",
    "input_ids = encoded_comments['input_ids']\n",
    "attention_masks = encoded_comments['attention_mask']\n",
    "labels = torch.tensor(comments['emotion_label'].values)\n",
    "\n",
    "dataset = TensorDataset(input_ids, attention_masks, labels)"
   ]
  },
  {
   "cell_type": "code",
   "execution_count": 6,
   "id": "f55fd9a3",
   "metadata": {
    "execution": {
     "iopub.execute_input": "2025-05-21T16:21:54.658577Z",
     "iopub.status.busy": "2025-05-21T16:21:54.658306Z",
     "iopub.status.idle": "2025-05-21T16:21:54.664781Z",
     "shell.execute_reply": "2025-05-21T16:21:54.664117Z",
     "shell.execute_reply.started": "2025-05-21T16:21:54.658552Z"
    },
    "trusted": true
   },
   "outputs": [],
   "source": [
    "# Chia tập train/val\n",
    "train_size = int(0.9 * len(dataset))\n",
    "val_size = len(dataset) - train_size\n",
    "train_dataset, val_dataset = random_split(dataset, [train_size, val_size])\n",
    "batch_size = 16\n",
    "train_loader = DataLoader(train_dataset, batch_size=batch_size, shuffle=True)\n",
    "val_loader = DataLoader(val_dataset, batch_size=batch_size)"
   ]
  },
  {
   "cell_type": "code",
   "execution_count": 7,
   "id": "92514ba8-c3f9-47aa-860d-9a3d796b47c1",
   "metadata": {
    "execution": {
     "iopub.execute_input": "2025-05-21T16:21:54.666056Z",
     "iopub.status.busy": "2025-05-21T16:21:54.665734Z",
     "iopub.status.idle": "2025-05-21T16:21:54.681069Z",
     "shell.execute_reply": "2025-05-21T16:21:54.680109Z",
     "shell.execute_reply.started": "2025-05-21T16:21:54.666029Z"
    },
    "trusted": true
   },
   "outputs": [],
   "source": [
    "save_directory = '/kaggle/working/phobert-base'\n",
    "os.makedirs(save_directory, exist_ok=True)"
   ]
  },
  {
   "cell_type": "code",
   "execution_count": 8,
   "id": "34cc2525",
   "metadata": {
    "execution": {
     "iopub.execute_input": "2025-05-21T16:21:54.681969Z",
     "iopub.status.busy": "2025-05-21T16:21:54.681760Z",
     "iopub.status.idle": "2025-05-21T16:36:28.050930Z",
     "shell.execute_reply": "2025-05-21T16:36:28.050281Z",
     "shell.execute_reply.started": "2025-05-21T16:21:54.681927Z"
    },
    "trusted": true
   },
   "outputs": [
    {
     "data": {
      "application/vnd.jupyter.widget-view+json": {
       "model_id": "800266cd20f44f8eb9898481abb312ad",
       "version_major": 2,
       "version_minor": 0
      },
      "text/plain": [
       "Training Epoch 1:   0%|          | 0/813 [00:00<?, ?it/s]"
      ]
     },
     "metadata": {},
     "output_type": "display_data"
    },
    {
     "data": {
      "application/vnd.jupyter.widget-view+json": {
       "model_id": "0d505d9b993a4c16a2457407dc99de4c",
       "version_major": 2,
       "version_minor": 0
      },
      "text/plain": [
       "Validation Epoch 1:   0%|          | 0/91 [00:00<?, ?it/s]"
      ]
     },
     "metadata": {},
     "output_type": "display_data"
    },
    {
     "name": "stdout",
     "output_type": "stream",
     "text": [
      "[Epoch 1] Train Loss: 1.0744 | Val Loss: 0.9526 | Val Accuracy: 0.6349\n"
     ]
    },
    {
     "data": {
      "application/vnd.jupyter.widget-view+json": {
       "model_id": "2f569a8ec50e44d1a5c1837bc86a8214",
       "version_major": 2,
       "version_minor": 0
      },
      "text/plain": [
       "Training Epoch 2:   0%|          | 0/813 [00:00<?, ?it/s]"
      ]
     },
     "metadata": {},
     "output_type": "display_data"
    },
    {
     "data": {
      "application/vnd.jupyter.widget-view+json": {
       "model_id": "08ddec07c53e4f92ad3065f2e62a4125",
       "version_major": 2,
       "version_minor": 0
      },
      "text/plain": [
       "Validation Epoch 2:   0%|          | 0/91 [00:00<?, ?it/s]"
      ]
     },
     "metadata": {},
     "output_type": "display_data"
    },
    {
     "name": "stdout",
     "output_type": "stream",
     "text": [
      "[Epoch 2] Train Loss: 0.8011 | Val Loss: 0.8933 | Val Accuracy: 0.6729\n"
     ]
    },
    {
     "data": {
      "application/vnd.jupyter.widget-view+json": {
       "model_id": "ae18519ca5c54c699dc18b858b31f4fb",
       "version_major": 2,
       "version_minor": 0
      },
      "text/plain": [
       "Training Epoch 3:   0%|          | 0/813 [00:00<?, ?it/s]"
      ]
     },
     "metadata": {},
     "output_type": "display_data"
    },
    {
     "data": {
      "application/vnd.jupyter.widget-view+json": {
       "model_id": "58fb5bbeb3684cd5bd21164d374fc36e",
       "version_major": 2,
       "version_minor": 0
      },
      "text/plain": [
       "Validation Epoch 3:   0%|          | 0/91 [00:00<?, ?it/s]"
      ]
     },
     "metadata": {},
     "output_type": "display_data"
    },
    {
     "name": "stdout",
     "output_type": "stream",
     "text": [
      "[Epoch 3] Train Loss: 0.5995 | Val Loss: 1.0477 | Val Accuracy: 0.6584\n"
     ]
    },
    {
     "data": {
      "application/vnd.jupyter.widget-view+json": {
       "model_id": "a6dd01b5716d4e19ba4912ec1e82a612",
       "version_major": 2,
       "version_minor": 0
      },
      "text/plain": [
       "Training Epoch 4:   0%|          | 0/813 [00:00<?, ?it/s]"
      ]
     },
     "metadata": {},
     "output_type": "display_data"
    },
    {
     "data": {
      "application/vnd.jupyter.widget-view+json": {
       "model_id": "c16acb0b7d974becbdcd0c0dbd00969e",
       "version_major": 2,
       "version_minor": 0
      },
      "text/plain": [
       "Validation Epoch 4:   0%|          | 0/91 [00:00<?, ?it/s]"
      ]
     },
     "metadata": {},
     "output_type": "display_data"
    },
    {
     "name": "stdout",
     "output_type": "stream",
     "text": [
      "[Epoch 4] Train Loss: 0.4727 | Val Loss: 1.1187 | Val Accuracy: 0.6639\n"
     ]
    },
    {
     "data": {
      "application/vnd.jupyter.widget-view+json": {
       "model_id": "e76ac62ccbd74520978019a5094b5d59",
       "version_major": 2,
       "version_minor": 0
      },
      "text/plain": [
       "Training Epoch 5:   0%|          | 0/813 [00:00<?, ?it/s]"
      ]
     },
     "metadata": {},
     "output_type": "display_data"
    },
    {
     "data": {
      "application/vnd.jupyter.widget-view+json": {
       "model_id": "96ba8fa0c4d04b5fafd900aeadc94924",
       "version_major": 2,
       "version_minor": 0
      },
      "text/plain": [
       "Validation Epoch 5:   0%|          | 0/91 [00:00<?, ?it/s]"
      ]
     },
     "metadata": {},
     "output_type": "display_data"
    },
    {
     "name": "stdout",
     "output_type": "stream",
     "text": [
      "[Epoch 5] Train Loss: 0.3251 | Val Loss: 1.2311 | Val Accuracy: 0.6715\n",
      "Early stopping tại epoch 5 (val_acc không cải thiện sau 3 epoch)\n",
      "\n",
      "Training completed!\n",
      "Best Validation Accuracy: 0.6729\n"
     ]
    },
    {
     "data": {
      "text/plain": [
       "('/kaggle/working/phobert-base/tokenizer_config.json',\n",
       " '/kaggle/working/phobert-base/special_tokens_map.json',\n",
       " '/kaggle/working/phobert-base/vocab.txt',\n",
       " '/kaggle/working/phobert-base/bpe.codes',\n",
       " '/kaggle/working/phobert-base/added_tokens.json')"
      ]
     },
     "execution_count": 8,
     "metadata": {},
     "output_type": "execute_result"
    }
   ],
   "source": [
    "# Thiết bị\n",
    "device = torch.device('cuda' if torch.cuda.is_available() else 'cpu')\n",
    "model.to(device)\n",
    "\n",
    "# Tính class weights\n",
    "all_labels = []\n",
    "for batch in train_loader:\n",
    "    _, _, labels = batch\n",
    "    all_labels.extend(labels.numpy())\n",
    "all_labels = np.array(all_labels)\n",
    "\n",
    "class_weights = compute_class_weight(class_weight='balanced', classes=np.unique(all_labels), y=all_labels)\n",
    "class_weights = torch.tensor(class_weights, dtype=torch.float).to(device)\n",
    "loss_fn = CrossEntropyLoss(weight=class_weights)\n",
    "\n",
    "# Optimizer\n",
    "optimizer = AdamW(model.parameters(), lr=5e-5)\n",
    "\n",
    "# Training loop\n",
    "num_epochs = 10\n",
    "patience = 3\n",
    "best_accuracy = 0\n",
    "patience_counter = 0\n",
    "\n",
    "train_losses = []\n",
    "val_losses = []\n",
    "val_accuracies = []\n",
    "\n",
    "for epoch in range(num_epochs):\n",
    "    model.train()\n",
    "    total_loss = 0\n",
    "    for batch in tqdm(train_loader, desc=f\"Training Epoch {epoch+1}\"):\n",
    "        input_ids, attention_mask, labels = [x.to(device) for x in batch]\n",
    "        optimizer.zero_grad()\n",
    "        outputs = model(input_ids, attention_mask=attention_mask)\n",
    "        loss = loss_fn(outputs.logits, labels)\n",
    "        loss.backward()\n",
    "        optimizer.step()\n",
    "        total_loss += loss.item()\n",
    "\n",
    "    avg_train_loss = total_loss / len(train_loader)\n",
    "    train_losses.append(avg_train_loss)\n",
    "\n",
    "    # Validation\n",
    "    model.eval()\n",
    "    true_labels, pred_labels = [], []\n",
    "    val_loss = 0\n",
    "    with torch.no_grad():\n",
    "        for batch in tqdm(val_loader, desc=f\"Validation Epoch {epoch+1}\"):\n",
    "            input_ids, attention_mask, labels = [x.to(device) for x in batch]\n",
    "            outputs = model(input_ids, attention_mask=attention_mask)\n",
    "            loss = loss_fn(outputs.logits, labels)\n",
    "            val_loss += loss.item()\n",
    "            preds = torch.argmax(outputs.logits, dim=1)\n",
    "            pred_labels.extend(preds.cpu().numpy())\n",
    "            true_labels.extend(labels.cpu().numpy())\n",
    "\n",
    "    avg_val_loss = val_loss / len(val_loader)\n",
    "    val_losses.append(avg_val_loss)\n",
    "    accuracy = accuracy_score(true_labels, pred_labels)\n",
    "    val_accuracies.append(accuracy)\n",
    "\n",
    "    print(f\"[Epoch {epoch+1}] Train Loss: {avg_train_loss:.4f} | \"\n",
    "          f\"Val Loss: {avg_val_loss:.4f} | Val Accuracy: {accuracy:.4f}\")\n",
    "\n",
    "    # Early stopping\n",
    "    if accuracy > best_accuracy:\n",
    "        best_accuracy = accuracy\n",
    "        patience_counter = 0\n",
    "        torch.save({\n",
    "            'epoch': epoch + 1,\n",
    "            'model_state_dict': model.state_dict(),\n",
    "            'optimizer_state_dict': optimizer.state_dict(),\n",
    "            'val_accuracy': accuracy,\n",
    "            'loss': avg_val_loss\n",
    "        }, \"best_model.pth\")\n",
    "    else:\n",
    "        patience_counter += 1\n",
    "        if patience_counter >= patience:\n",
    "            print(f\"Early stopping tại epoch {epoch+1} (val_acc không cải thiện sau {patience} epoch)\")\n",
    "            break\n",
    "\n",
    "print(\"\\nTraining completed!\")\n",
    "print(f\"Best Validation Accuracy: {best_accuracy:.4f}\")\n",
    "\n",
    "# Lưu model\n",
    "model.save_pretrained(save_directory)\n",
    "tokenizer.save_pretrained(save_directory)"
   ]
  },
  {
   "cell_type": "code",
   "execution_count": 9,
   "id": "ce204690-e8b9-446e-8210-4ad73660efc6",
   "metadata": {
    "execution": {
     "iopub.execute_input": "2025-05-21T16:36:28.052065Z",
     "iopub.status.busy": "2025-05-21T16:36:28.051696Z",
     "iopub.status.idle": "2025-05-21T16:36:28.055763Z",
     "shell.execute_reply": "2025-05-21T16:36:28.055002Z",
     "shell.execute_reply.started": "2025-05-21T16:36:28.052015Z"
    },
    "trusted": true
   },
   "outputs": [],
   "source": [
    "# Dự đoán mẫu\n",
    "label_names = {\n",
    "    0: 'Vui vẻ',\n",
    "    1: 'Tức giận',\n",
    "    2: 'Buồn bã',\n",
    "    3: 'Sợ hãi',\n",
    "    4: 'Trung lập'\n",
    "}"
   ]
  },
  {
   "cell_type": "code",
   "execution_count": 10,
   "id": "68f59e2a-a704-4c03-a6a4-e4e2799b8c5a",
   "metadata": {
    "execution": {
     "iopub.execute_input": "2025-05-21T16:36:28.058120Z",
     "iopub.status.busy": "2025-05-21T16:36:28.057744Z",
     "iopub.status.idle": "2025-05-21T16:36:28.081289Z",
     "shell.execute_reply": "2025-05-21T16:36:28.080609Z",
     "shell.execute_reply.started": "2025-05-21T16:36:28.058106Z"
    },
    "trusted": true
   },
   "outputs": [
    {
     "name": "stdout",
     "output_type": "stream",
     "text": [
      "              precision    recall  f1-score   support\n",
      "\n",
      "      Vui vẻ       0.60      0.55      0.57       307\n",
      "    Tức giận       0.68      0.68      0.68       297\n",
      "     Buồn bã       0.66      0.68      0.67       287\n",
      "      Sợ hãi       0.76      0.89      0.82       270\n",
      "   Trung lập       0.64      0.59      0.61       285\n",
      "\n",
      "    accuracy                           0.67      1446\n",
      "   macro avg       0.67      0.68      0.67      1446\n",
      "weighted avg       0.67      0.67      0.67      1446\n",
      "\n"
     ]
    }
   ],
   "source": [
    "print(classification_report(true_labels, pred_labels, target_names=list(label_names.values())))"
   ]
  },
  {
   "cell_type": "code",
   "execution_count": 11,
   "id": "de12908d-02d1-4a9e-9315-e39a18813c70",
   "metadata": {
    "execution": {
     "iopub.execute_input": "2025-05-21T16:36:28.082262Z",
     "iopub.status.busy": "2025-05-21T16:36:28.082024Z",
     "iopub.status.idle": "2025-05-21T16:36:28.381208Z",
     "shell.execute_reply": "2025-05-21T16:36:28.380457Z",
     "shell.execute_reply.started": "2025-05-21T16:36:28.082237Z"
    },
    "trusted": true
   },
   "outputs": [
    {
     "data": {
      "image/png": "[encoded data removed]",
      "text/plain": [
       "<Figure size 800x600 with 2 Axes>"
      ]
     },
     "metadata": {},
     "output_type": "display_data"
    }
   ],
   "source": [
    "# Ma trận nhầm lẫn\n",
    "cm = confusion_matrix(true_labels, pred_labels)\n",
    "labels = list(label_names.values())\n",
    "\n",
    "plt.figure(figsize=(8, 6))\n",
    "sns.heatmap(cm, annot=True, fmt='d', cmap='Blues', xticklabels=labels, yticklabels=labels)\n",
    "plt.xlabel('Predicted Label')\n",
    "plt.ylabel('True Label')\n",
    "plt.title('Confusion Matrix')\n",
    "plt.tight_layout()\n",
    "plt.show()"
   ]
  },
  {
   "cell_type": "code",
   "execution_count": 12,
   "id": "d1e4aced",
   "metadata": {
    "execution": {
     "iopub.execute_input": "2025-05-21T16:36:28.382509Z",
     "iopub.status.busy": "2025-05-21T16:36:28.382278Z",
     "iopub.status.idle": "2025-05-21T16:36:29.461835Z",
     "shell.execute_reply": "2025-05-21T16:36:29.461093Z",
     "shell.execute_reply.started": "2025-05-21T16:36:28.382492Z"
    },
    "trusted": true
   },
   "outputs": [
    {
     "name": "stdout",
     "output_type": "stream",
     "text": [
      "\n",
      "Đã load mô hình tốt nhất tại epoch 2 với val_acc = 0.6729\n"
     ]
    }
   ],
   "source": [
    "# Load lại mô hình tốt nhất từ file .pth\n",
    "checkpoint = torch.load(\"best_model.pth\", map_location=device, weights_only=False)\n",
    "model.load_state_dict(checkpoint['model_state_dict'])\n",
    "optimizer.load_state_dict(checkpoint['optimizer_state_dict'])\n",
    "model.to(device)\n",
    "print(f\"\\nĐã load mô hình tốt nhất tại epoch {checkpoint['epoch']} với val_acc = {checkpoint['val_accuracy']:.4f}\")"
   ]
  },
  {
   "cell_type": "code",
   "execution_count": 13,
   "id": "b4cfb8e1",
   "metadata": {
    "execution": {
     "iopub.execute_input": "2025-05-21T16:36:29.462907Z",
     "iopub.status.busy": "2025-05-21T16:36:29.462657Z",
     "iopub.status.idle": "2025-05-21T16:36:29.469108Z",
     "shell.execute_reply": "2025-05-21T16:36:29.468208Z",
     "shell.execute_reply.started": "2025-05-21T16:36:29.462890Z"
    },
    "trusted": true
   },
   "outputs": [
    {
     "name": "stdout",
     "output_type": "stream",
     "text": [
      "\n",
      "--- Examples of Predictions ---\n",
      "✅ Correct | Text: xe đậu bên đường thản_nhiên ghê_ko dẫn đi\n",
      "  Predicted: Tức giận, Actual: Tức giận\n",
      "\n",
      "✅ Correct | Text: t xuống t nch từng thằng\n",
      "  Predicted: Tức giận, Actual: Tức giận\n",
      "\n",
      "✅ Correct | Text: pha nhục đi vào thế_kỉ\n",
      "  Predicted: Tức giận, Actual: Tức giận\n",
      "\n",
      "✅ Correct | Text: mong pháp_luật xử thật nặng dăn_đe cho các bạn trẻ sáng_mắt ra\n",
      "  Predicted: Tức giận, Actual: Tức giận\n",
      "\n",
      "✅ Correct | Text: ngầu\n",
      "  Predicted: Vui vẻ, Actual: Vui vẻ\n",
      "\n",
      "✅ Correct | Text: ui sợ dơn\n",
      "  Predicted: Sợ hãi, Actual: Sợ hãi\n",
      "\n",
      "❌ Incorrect | Text: xã_hội đáng sợ\n",
      "  Predicted: Sợ hãi, Actual: Buồn bã\n",
      "\n",
      "✅ Correct | Text: tim để gia_đình hạnh_phúc bình_an\n",
      "  Predicted: Vui vẻ, Actual: Vui vẻ\n",
      "\n",
      "❌ Incorrect | Text: chắc nó đang mắc nợ nên cố_tình làm_vậy để dc vô tò_ăn cơm cữ cho an_toàn ấy mà\n",
      "  Predicted: Buồn bã, Actual: Trung lập\n",
      "\n",
      "✅ Correct | Text: quá tội át\n",
      "  Predicted: Tức giận, Actual: Tức giận\n",
      "\n"
     ]
    }
   ],
   "source": [
    "print(\"\\n--- Examples of Predictions ---\")\n",
    "for i in range(10):\n",
    "    pred = pred_labels[i]\n",
    "    true = true_labels[i]\n",
    "    text = comments.iloc[val_dataset.indices[i]]['text']\n",
    "    status = \"✅ Correct\" if pred == true else \"❌ Incorrect\"\n",
    "    print(f\"{status} | Text: {text}\\n  Predicted: {label_names[pred]}, Actual: {label_names[true]}\\n\")\n"
   ]
  },
  {
   "cell_type": "code",
   "execution_count": 14,
   "id": "363d5440",
   "metadata": {
    "execution": {
     "iopub.execute_input": "2025-05-21T16:36:29.470590Z",
     "iopub.status.busy": "2025-05-21T16:36:29.469901Z",
     "iopub.status.idle": "2025-05-21T16:36:29.487601Z",
     "shell.execute_reply": "2025-05-21T16:36:29.487116Z",
     "shell.execute_reply.started": "2025-05-21T16:36:29.470568Z"
    },
    "trusted": true
   },
   "outputs": [],
   "source": [
    "def predict_text(text):\n",
    "    model.eval()\n",
    "    encoded = tokenizer.encode_plus(\n",
    "        text,\n",
    "        add_special_tokens=True,\n",
    "        padding='max_length',\n",
    "        max_length=128,\n",
    "        truncation=True,\n",
    "        return_attention_mask=True,\n",
    "        return_tensors='pt'\n",
    "    )\n",
    "    input_ids = encoded['input_ids'].to(model.device)\n",
    "    attention_mask = encoded['attention_mask'].to(model.device)\n",
    "\n",
    "    with torch.no_grad():\n",
    "        outputs = model(input_ids, attention_mask=attention_mask)\n",
    "        logits = outputs.logits\n",
    "        predicted_class = torch.argmax(logits, dim=1).item()\n",
    "\n",
    "    print(f\"\\n Dự đoán cảm xúc: {label_names[predicted_class]}\")\n"
   ]
  },
  {
   "cell_type": "code",
   "execution_count": 15,
   "id": "3fae8892",
   "metadata": {
    "execution": {
     "iopub.execute_input": "2025-05-21T16:36:29.488586Z",
     "iopub.status.busy": "2025-05-21T16:36:29.488371Z",
     "iopub.status.idle": "2025-05-21T16:36:29.689176Z",
     "shell.execute_reply": "2025-05-21T16:36:29.688391Z",
     "shell.execute_reply.started": "2025-05-21T16:36:29.488570Z"
    },
    "trusted": true
   },
   "outputs": [
    {
     "name": "stdout",
     "output_type": "stream",
     "text": [
      "\n",
      " Bình luận: nghe bạn nam bảo : khổ thế nhờ đã dịch cô vít thì chớ mà xót🥺\n",
      "\n",
      " Dự đoán cảm xúc: Buồn bã\n",
      "\n",
      " Bình luận: mày giỡn mặt tao à?\n",
      "\n",
      " Dự đoán cảm xúc: Tức giận\n",
      "\n",
      " Bình luận: trời ơi vui quá đi 😍 hôm nay được nghỉ học\n",
      "\n",
      " Dự đoán cảm xúc: Vui vẻ\n",
      "\n",
      " Bình luận: bạn nữ đó nhìn buồn thật sự\n",
      "\n",
      " Dự đoán cảm xúc: Buồn bã\n",
      "\n",
      " Bình luận: tôi cảm thấy lo lắng khi ra đường bây giờ\n",
      "\n",
      " Dự đoán cảm xúc: Sợ hãi\n",
      "\n",
      " Bình luận: haiz, chẳng còn gì để nói nữa\n",
      "\n",
      " Dự đoán cảm xúc: Buồn bã\n",
      "\n",
      " Bình luận: mấy bạn bình tĩnh, chuyện đâu còn có đó\n",
      "\n",
      " Dự đoán cảm xúc: Vui vẻ\n",
      "\n",
      " Bình luận: cảm ơn bạn rất nhiều vì đã giúp tôi\n",
      "\n",
      " Dự đoán cảm xúc: Vui vẻ\n",
      "\n",
      " Bình luận: tôi ghét cái cách bạn đối xử với tôi\n",
      "\n",
      " Dự đoán cảm xúc: Tức giận\n",
      "\n",
      " Bình luận: mình rất hồi hộp chờ kết quả thi\n",
      "\n",
      " Dự đoán cảm xúc: Vui vẻ\n"
     ]
    }
   ],
   "source": [
    "test_texts = [\n",
    "    \"nghe bạn nam bảo : khổ thế nhờ đã dịch cô vít thì chớ mà xót🥺\",\n",
    "    \"mày giỡn mặt tao à?\",\n",
    "    \"trời ơi vui quá đi 😍 hôm nay được nghỉ học\",\n",
    "    \"bạn nữ đó nhìn buồn thật sự\",\n",
    "    \"tôi cảm thấy lo lắng khi ra đường bây giờ\",\n",
    "    \"haiz, chẳng còn gì để nói nữa\",\n",
    "    \"mấy bạn bình tĩnh, chuyện đâu còn có đó\",\n",
    "    \"cảm ơn bạn rất nhiều vì đã giúp tôi\",\n",
    "    \"tôi ghét cái cách bạn đối xử với tôi\",\n",
    "    \"mình rất hồi hộp chờ kết quả thi\"\n",
    "]\n",
    "\n",
    "for text in test_texts:\n",
    "    print(f\"\\n Bình luận: {text}\")\n",
    "    predict_text(text)\n"
   ]
  },
  {
   "cell_type": "code",
   "execution_count": 16,
   "id": "4b89e833-3c98-4dcf-a8e6-93e6533dde7e",
   "metadata": {
    "execution": {
     "iopub.execute_input": "2025-05-21T16:36:29.690157Z",
     "iopub.status.busy": "2025-05-21T16:36:29.689962Z",
     "iopub.status.idle": "2025-05-21T16:38:28.732372Z",
     "shell.execute_reply": "2025-05-21T16:38:28.731479Z",
     "shell.execute_reply.started": "2025-05-21T16:36:29.690143Z"
    },
    "trusted": true
   },
   "outputs": [
    {
     "name": "stdout",
     "output_type": "stream",
     "text": [
      "  adding: kaggle/working/ (stored 0%)\n",
      "  adding: kaggle/working/.virtual_documents/ (stored 0%)\n",
      "  adding: kaggle/working/phobert-base/ (stored 0%)\n",
      "  adding: kaggle/working/phobert-base/special_tokens_map.json (deflated 57%)\n",
      "  adding: kaggle/working/phobert-base/bpe.codes (deflated 59%)\n",
      "  adding: kaggle/working/phobert-base/config.json (deflated 53%)\n",
      "  adding: kaggle/working/phobert-base/added_tokens.json (stored 0%)\n",
      "  adding: kaggle/working/phobert-base/model.safetensors (deflated 16%)\n",
      "  adding: kaggle/working/phobert-base/tokenizer_config.json (deflated 77%)\n",
      "  adding: kaggle/working/phobert-base/vocab.txt (deflated 55%)\n",
      "  adding: kaggle/working/best_model.pth (deflated 30%)\n"
     ]
    }
   ],
   "source": [
    "!zip -r /kaggle/working/phobert-base.zip /kaggle/working"
   ]
  }
 ],
 "metadata": {
  "kaggle": {
   "accelerator": "gpu",
   "dataSources": [
    {
     "datasetId": 7467876,
     "sourceId": 11882251,
     "sourceType": "datasetVersion"
    }
   ],
   "dockerImageVersionId": 31041,
   "isGpuEnabled": true,
   "isInternetEnabled": true,
   "language": "python",
   "sourceType": "notebook"
  },
  "kernelspec": {
   "display_name": "venv",
   "language": "python",
   "name": "python3"
  },
  "language_info": {
   "codemirror_mode": {
    "name": "ipython",
    "version": 3
   },
   "file_extension": ".py",
   "mimetype": "text/x-python",
   "name": "python",
   "nbconvert_exporter": "python",
   "pygments_lexer": "ipython3",
   "version": "3.10.6"
  }
 },
 "nbformat": 4,
 "nbformat_minor": 5
}
