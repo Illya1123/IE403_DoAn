{
 "cells": [
  {
   "cell_type": "code",
   "execution_count": 1,
   "id": "54fbb94c",
   "metadata": {
    "execution": {
     "iopub.execute_input": "2025-05-21T13:35:21.291435Z",
     "iopub.status.busy": "2025-05-21T13:35:21.290760Z",
     "iopub.status.idle": "2025-05-21T13:35:33.383458Z",
     "shell.execute_reply": "2025-05-21T13:35:33.382729Z",
     "shell.execute_reply.started": "2025-05-21T13:35:21.291412Z"
    },
    "trusted": true
   },
   "outputs": [],
   "source": [
    "import numpy as np\n",
    "import pandas as pd\n",
    "import torch\n",
    "from torch.utils.data import DataLoader, TensorDataset, random_split\n",
    "from transformers import AutoTokenizer, AutoModelForSequenceClassification\n",
    "import os\n",
    "import matplotlib.pyplot as plt\n",
    "from tqdm.notebook import tqdm\n",
    "from torch.optim import AdamW\n",
    "from sklearn.metrics import accuracy_score, precision_recall_fscore_support, classification_report, confusion_matrix\n",
    "from sklearn.utils.class_weight import compute_class_weight\n",
    "from torch.nn import CrossEntropyLoss\n",
    "import seaborn as sns"
   ]
  },
  {
   "cell_type": "code",
   "execution_count": 2,
   "id": "3e686abb",
   "metadata": {
    "execution": {
     "iopub.execute_input": "2025-05-21T13:35:33.385195Z",
     "iopub.status.busy": "2025-05-21T13:35:33.384780Z",
     "iopub.status.idle": "2025-05-21T13:35:33.389190Z",
     "shell.execute_reply": "2025-05-21T13:35:33.388416Z",
     "shell.execute_reply.started": "2025-05-21T13:35:33.385169Z"
    },
    "trusted": true
   },
   "outputs": [],
   "source": [
    "# Đường dẫn dữ liệu\n",
    "data_path = '/kaggle/input/tiktok_comments_balanced.csv'"
   ]
  },
  {
   "cell_type": "code",
   "execution_count": 3,
   "id": "359a9497",
   "metadata": {
    "execution": {
     "iopub.execute_input": "2025-05-21T13:35:33.390153Z",
     "iopub.status.busy": "2025-05-21T13:35:33.389936Z",
     "iopub.status.idle": "2025-05-21T13:35:33.476636Z",
     "shell.execute_reply": "2025-05-21T13:35:33.475917Z",
     "shell.execute_reply.started": "2025-05-21T13:35:33.390135Z"
    },
    "trusted": true
   },
   "outputs": [],
   "source": [
    "# Đọc dữ liệu\n",
    "comments = pd.read_csv(data_path, usecols=['emotion_label', 'text'])\n",
    "comments = comments.dropna(subset=['emotion_label'])\n",
    "comments['emotion_label'] = comments['emotion_label'].astype(int)\n",
    "\n",
    "# Không xử lý gì văn bản — giữ nguyên\n",
    "comments['text'] = comments['text'].astype(str)"
   ]
  },
  {
   "cell_type": "code",
   "execution_count": 4,
   "id": "53743595",
   "metadata": {
    "execution": {
     "iopub.execute_input": "2025-05-21T13:35:33.478724Z",
     "iopub.status.busy": "2025-05-21T13:35:33.478468Z",
     "iopub.status.idle": "2025-05-21T13:35:51.724559Z",
     "shell.execute_reply": "2025-05-21T13:35:51.723976Z",
     "shell.execute_reply.started": "2025-05-21T13:35:33.478694Z"
    },
    "trusted": true
   },
   "outputs": [
    {
     "data": {
      "application/vnd.jupyter.widget-view+json": {
       "model_id": "366f923bfc3d4a519e57527bbbb14cb8",
       "version_major": 2,
       "version_minor": 0
      },
      "text/plain": [
       "config.json:   0%|          | 0.00/1.40k [00:00<?, ?B/s]"
      ]
     },
     "metadata": {},
     "output_type": "display_data"
    },
    {
     "data": {
      "application/vnd.jupyter.widget-view+json": {
       "model_id": "b65f6b8782b242b2b844f5e58ee5dbb0",
       "version_major": 2,
       "version_minor": 0
      },
      "text/plain": [
       "vocab.txt:   0%|          | 0.00/255k [00:00<?, ?B/s]"
      ]
     },
     "metadata": {},
     "output_type": "display_data"
    },
    {
     "name": "stderr",
     "output_type": "stream",
     "text": [
      "2025-05-21 13:35:36.919887: E external/local_xla/xla/stream_executor/cuda/cuda_fft.cc:477] Unable to register cuFFT factory: Attempting to register factory for plugin cuFFT when one has already been registered\n",
      "WARNING: All log messages before absl::InitializeLog() is called are written to STDERR\n",
      "E0000 00:00:1747834537.106941      35 cuda_dnn.cc:8310] Unable to register cuDNN factory: Attempting to register factory for plugin cuDNN when one has already been registered\n",
      "E0000 00:00:1747834537.159265      35 cuda_blas.cc:1418] Unable to register cuBLAS factory: Attempting to register factory for plugin cuBLAS when one has already been registered\n"
     ]
    },
    {
     "data": {
      "application/vnd.jupyter.widget-view+json": {
       "model_id": "a71d548c5dbd4a37b4176a1993370fe7",
       "version_major": 2,
       "version_minor": 0
      },
      "text/plain": [
       "pytorch_model.bin:   0%|          | 0.00/581M [00:00<?, ?B/s]"
      ]
     },
     "metadata": {},
     "output_type": "display_data"
    },
    {
     "name": "stderr",
     "output_type": "stream",
     "text": [
      "Some weights of BertForSequenceClassification were not initialized from the model checkpoint at FPTAI/vibert-base-cased and are newly initialized: ['classifier.bias', 'classifier.weight']\n",
      "You should probably TRAIN this model on a down-stream task to be able to use it for predictions and inference.\n"
     ]
    }
   ],
   "source": [
    "# Tokenizer và Model\n",
    "model_name = \"FPTAI/vibert-base-cased\"\n",
    "tokenizer = AutoTokenizer.from_pretrained(model_name)\n",
    "num_labels = 5\n",
    "model = AutoModelForSequenceClassification.from_pretrained(model_name, num_labels=num_labels)"
   ]
  },
  {
   "cell_type": "code",
   "execution_count": 5,
   "id": "84e042e5",
   "metadata": {
    "execution": {
     "iopub.execute_input": "2025-05-21T13:35:51.725911Z",
     "iopub.status.busy": "2025-05-21T13:35:51.725315Z",
     "iopub.status.idle": "2025-05-21T13:35:53.687461Z",
     "shell.execute_reply": "2025-05-21T13:35:53.686626Z",
     "shell.execute_reply.started": "2025-05-21T13:35:51.725879Z"
    },
    "trusted": true
   },
   "outputs": [
    {
     "data": {
      "application/vnd.jupyter.widget-view+json": {
       "model_id": "8d25ecd647ea484a847015ddc4185de4",
       "version_major": 2,
       "version_minor": 0
      },
      "text/plain": [
       "model.safetensors:   0%|          | 0.00/581M [00:00<?, ?B/s]"
      ]
     },
     "metadata": {},
     "output_type": "display_data"
    }
   ],
   "source": [
    "# Mã hóa dữ liệu\n",
    "encoded_comments = tokenizer.batch_encode_plus(\n",
    "    comments['text'].tolist(),\n",
    "    add_special_tokens=True,\n",
    "    padding='max_length',\n",
    "    max_length=128,\n",
    "    truncation=True,\n",
    "    return_attention_mask=True,\n",
    "    return_tensors='pt'\n",
    ")\n",
    "\n",
    "input_ids = encoded_comments['input_ids']\n",
    "attention_masks = encoded_comments['attention_mask']\n",
    "labels = torch.tensor(comments['emotion_label'].values)\n",
    "\n",
    "dataset = TensorDataset(input_ids, attention_masks, labels)"
   ]
  },
  {
   "cell_type": "code",
   "execution_count": 6,
   "id": "f55fd9a3",
   "metadata": {
    "execution": {
     "iopub.execute_input": "2025-05-21T13:35:53.688710Z",
     "iopub.status.busy": "2025-05-21T13:35:53.688421Z",
     "iopub.status.idle": "2025-05-21T13:35:53.695814Z",
     "shell.execute_reply": "2025-05-21T13:35:53.694821Z",
     "shell.execute_reply.started": "2025-05-21T13:35:53.688667Z"
    },
    "trusted": true
   },
   "outputs": [],
   "source": [
    "# Chia tập train/val\n",
    "train_size = int(0.9 * len(dataset))\n",
    "val_size = len(dataset) - train_size\n",
    "train_dataset, val_dataset = random_split(dataset, [train_size, val_size])\n",
    "batch_size = 16\n",
    "train_loader = DataLoader(train_dataset, batch_size=batch_size, shuffle=True)\n",
    "val_loader = DataLoader(val_dataset, batch_size=batch_size)"
   ]
  },
  {
   "cell_type": "code",
   "execution_count": 7,
   "id": "92514ba8-c3f9-47aa-860d-9a3d796b47c1",
   "metadata": {
    "execution": {
     "iopub.execute_input": "2025-05-21T13:35:53.697286Z",
     "iopub.status.busy": "2025-05-21T13:35:53.696887Z",
     "iopub.status.idle": "2025-05-21T13:35:53.782226Z",
     "shell.execute_reply": "2025-05-21T13:35:53.781397Z",
     "shell.execute_reply.started": "2025-05-21T13:35:53.697257Z"
    },
    "trusted": true
   },
   "outputs": [],
   "source": [
    "save_directory = '/kaggle/working/vibert-base-cased'\n",
    "os.makedirs(save_directory, exist_ok=True)"
   ]
  },
  {
   "cell_type": "code",
   "execution_count": 8,
   "id": "34cc2525",
   "metadata": {
    "execution": {
     "iopub.execute_input": "2025-05-21T13:35:53.783887Z",
     "iopub.status.busy": "2025-05-21T13:35:53.783519Z",
     "iopub.status.idle": "2025-05-21T13:53:01.751952Z",
     "shell.execute_reply": "2025-05-21T13:53:01.751208Z",
     "shell.execute_reply.started": "2025-05-21T13:35:53.783856Z"
    },
    "trusted": true
   },
   "outputs": [
    {
     "data": {
      "application/vnd.jupyter.widget-view+json": {
       "model_id": "036c327bd182401da99d4ed00281af3e",
       "version_major": 2,
       "version_minor": 0
      },
      "text/plain": [
       "Training Epoch 1:   0%|          | 0/813 [00:00<?, ?it/s]"
      ]
     },
     "metadata": {},
     "output_type": "display_data"
    },
    {
     "data": {
      "application/vnd.jupyter.widget-view+json": {
       "model_id": "f6cf52a12e634f79ade9f411c0888cfa",
       "version_major": 2,
       "version_minor": 0
      },
      "text/plain": [
       "Validation Epoch 1:   0%|          | 0/91 [00:00<?, ?it/s]"
      ]
     },
     "metadata": {},
     "output_type": "display_data"
    },
    {
     "name": "stdout",
     "output_type": "stream",
     "text": [
      "[Epoch 1] Train Loss: 1.3860 | Val Loss: 1.2203 | Val Accuracy: 0.5090\n"
     ]
    },
    {
     "data": {
      "application/vnd.jupyter.widget-view+json": {
       "model_id": "35d7d9acaa0d43168ef74ced54f62204",
       "version_major": 2,
       "version_minor": 0
      },
      "text/plain": [
       "Training Epoch 2:   0%|          | 0/813 [00:00<?, ?it/s]"
      ]
     },
     "metadata": {},
     "output_type": "display_data"
    },
    {
     "data": {
      "application/vnd.jupyter.widget-view+json": {
       "model_id": "61e1cd9c7c3e4907b39c47d5a07c7655",
       "version_major": 2,
       "version_minor": 0
      },
      "text/plain": [
       "Validation Epoch 2:   0%|          | 0/91 [00:00<?, ?it/s]"
      ]
     },
     "metadata": {},
     "output_type": "display_data"
    },
    {
     "name": "stdout",
     "output_type": "stream",
     "text": [
      "[Epoch 2] Train Loss: 1.1133 | Val Loss: 1.0865 | Val Accuracy: 0.5934\n"
     ]
    },
    {
     "data": {
      "application/vnd.jupyter.widget-view+json": {
       "model_id": "d57961b72e2b40c7b4b4f8cc0188c8ed",
       "version_major": 2,
       "version_minor": 0
      },
      "text/plain": [
       "Training Epoch 3:   0%|          | 0/813 [00:00<?, ?it/s]"
      ]
     },
     "metadata": {},
     "output_type": "display_data"
    },
    {
     "data": {
      "application/vnd.jupyter.widget-view+json": {
       "model_id": "292aae5d32534b45b2bc57d4ab70043d",
       "version_major": 2,
       "version_minor": 0
      },
      "text/plain": [
       "Validation Epoch 3:   0%|          | 0/91 [00:00<?, ?it/s]"
      ]
     },
     "metadata": {},
     "output_type": "display_data"
    },
    {
     "name": "stdout",
     "output_type": "stream",
     "text": [
      "[Epoch 3] Train Loss: 0.9025 | Val Loss: 1.1300 | Val Accuracy: 0.6058\n"
     ]
    },
    {
     "data": {
      "application/vnd.jupyter.widget-view+json": {
       "model_id": "8a7b4142fce74e39ac4d01e967a56ccb",
       "version_major": 2,
       "version_minor": 0
      },
      "text/plain": [
       "Training Epoch 4:   0%|          | 0/813 [00:00<?, ?it/s]"
      ]
     },
     "metadata": {},
     "output_type": "display_data"
    },
    {
     "data": {
      "application/vnd.jupyter.widget-view+json": {
       "model_id": "a16eafe7ba75465d8a57dc3741e4ec0e",
       "version_major": 2,
       "version_minor": 0
      },
      "text/plain": [
       "Validation Epoch 4:   0%|          | 0/91 [00:00<?, ?it/s]"
      ]
     },
     "metadata": {},
     "output_type": "display_data"
    },
    {
     "name": "stdout",
     "output_type": "stream",
     "text": [
      "[Epoch 4] Train Loss: 0.6984 | Val Loss: 1.3057 | Val Accuracy: 0.5809\n"
     ]
    },
    {
     "data": {
      "application/vnd.jupyter.widget-view+json": {
       "model_id": "518c6142574f4f03a0aead9edee13930",
       "version_major": 2,
       "version_minor": 0
      },
      "text/plain": [
       "Training Epoch 5:   0%|          | 0/813 [00:00<?, ?it/s]"
      ]
     },
     "metadata": {},
     "output_type": "display_data"
    },
    {
     "data": {
      "application/vnd.jupyter.widget-view+json": {
       "model_id": "868a5f22945948d5abdee2f7ed7c11d2",
       "version_major": 2,
       "version_minor": 0
      },
      "text/plain": [
       "Validation Epoch 5:   0%|          | 0/91 [00:00<?, ?it/s]"
      ]
     },
     "metadata": {},
     "output_type": "display_data"
    },
    {
     "name": "stdout",
     "output_type": "stream",
     "text": [
      "[Epoch 5] Train Loss: 0.5293 | Val Loss: 1.2474 | Val Accuracy: 0.5920\n"
     ]
    },
    {
     "data": {
      "application/vnd.jupyter.widget-view+json": {
       "model_id": "28b776ae62f349ab8f295ffb4375be51",
       "version_major": 2,
       "version_minor": 0
      },
      "text/plain": [
       "Training Epoch 6:   0%|          | 0/813 [00:00<?, ?it/s]"
      ]
     },
     "metadata": {},
     "output_type": "display_data"
    },
    {
     "data": {
      "application/vnd.jupyter.widget-view+json": {
       "model_id": "9dccda6900144bc2a877996b09ad2887",
       "version_major": 2,
       "version_minor": 0
      },
      "text/plain": [
       "Validation Epoch 6:   0%|          | 0/91 [00:00<?, ?it/s]"
      ]
     },
     "metadata": {},
     "output_type": "display_data"
    },
    {
     "name": "stdout",
     "output_type": "stream",
     "text": [
      "[Epoch 6] Train Loss: 0.3964 | Val Loss: 1.3887 | Val Accuracy: 0.5920\n",
      "Early stopping tại epoch 6 (val_acc không cải thiện sau 3 epoch)\n",
      "\n",
      "Training completed!\n",
      "Best Validation Accuracy: 0.6058\n"
     ]
    },
    {
     "data": {
      "text/plain": [
       "('/kaggle/working/vibert-base-cased/tokenizer_config.json',\n",
       " '/kaggle/working/vibert-base-cased/special_tokens_map.json',\n",
       " '/kaggle/working/vibert-base-cased/vocab.txt',\n",
       " '/kaggle/working/vibert-base-cased/added_tokens.json',\n",
       " '/kaggle/working/vibert-base-cased/tokenizer.json')"
      ]
     },
     "execution_count": 8,
     "metadata": {},
     "output_type": "execute_result"
    }
   ],
   "source": [
    "# Thiết bị\n",
    "device = torch.device('cuda' if torch.cuda.is_available() else 'cpu')\n",
    "model.to(device)\n",
    "\n",
    "# Tính class weights\n",
    "all_labels = []\n",
    "for batch in train_loader:\n",
    "    _, _, labels = batch\n",
    "    all_labels.extend(labels.numpy())\n",
    "all_labels = np.array(all_labels)\n",
    "\n",
    "class_weights = compute_class_weight(class_weight='balanced', classes=np.unique(all_labels), y=all_labels)\n",
    "class_weights = torch.tensor(class_weights, dtype=torch.float).to(device)\n",
    "loss_fn = CrossEntropyLoss(weight=class_weights)\n",
    "\n",
    "# Optimizer\n",
    "optimizer = AdamW(model.parameters(), lr=5e-5)\n",
    "\n",
    "# Training loop\n",
    "num_epochs = 10\n",
    "patience = 3\n",
    "best_accuracy = 0\n",
    "patience_counter = 0\n",
    "\n",
    "train_losses = []\n",
    "val_losses = []\n",
    "val_accuracies = []\n",
    "\n",
    "for epoch in range(num_epochs):\n",
    "    model.train()\n",
    "    total_loss = 0\n",
    "    for batch in tqdm(train_loader, desc=f\"Training Epoch {epoch+1}\"):\n",
    "        input_ids, attention_mask, labels = [x.to(device) for x in batch]\n",
    "        optimizer.zero_grad()\n",
    "        outputs = model(input_ids, attention_mask=attention_mask)\n",
    "        loss = loss_fn(outputs.logits, labels)\n",
    "        loss.backward()\n",
    "        optimizer.step()\n",
    "        total_loss += loss.item()\n",
    "\n",
    "    avg_train_loss = total_loss / len(train_loader)\n",
    "    train_losses.append(avg_train_loss)\n",
    "\n",
    "    # Validation\n",
    "    model.eval()\n",
    "    true_labels, pred_labels = [], []\n",
    "    val_loss = 0\n",
    "    with torch.no_grad():\n",
    "        for batch in tqdm(val_loader, desc=f\"Validation Epoch {epoch+1}\"):\n",
    "            input_ids, attention_mask, labels = [x.to(device) for x in batch]\n",
    "            outputs = model(input_ids, attention_mask=attention_mask)\n",
    "            loss = loss_fn(outputs.logits, labels)\n",
    "            val_loss += loss.item()\n",
    "            preds = torch.argmax(outputs.logits, dim=1)\n",
    "            pred_labels.extend(preds.cpu().numpy())\n",
    "            true_labels.extend(labels.cpu().numpy())\n",
    "\n",
    "    avg_val_loss = val_loss / len(val_loader)\n",
    "    val_losses.append(avg_val_loss)\n",
    "    accuracy = accuracy_score(true_labels, pred_labels)\n",
    "    val_accuracies.append(accuracy)\n",
    "\n",
    "    print(f\"[Epoch {epoch+1}] Train Loss: {avg_train_loss:.4f} | \"\n",
    "          f\"Val Loss: {avg_val_loss:.4f} | Val Accuracy: {accuracy:.4f}\")\n",
    "\n",
    "    # Early stopping\n",
    "    if accuracy > best_accuracy:\n",
    "        best_accuracy = accuracy\n",
    "        patience_counter = 0\n",
    "        torch.save({\n",
    "            'epoch': epoch + 1,\n",
    "            'model_state_dict': model.state_dict(),\n",
    "            'optimizer_state_dict': optimizer.state_dict(),\n",
    "            'val_accuracy': accuracy,\n",
    "            'loss': avg_val_loss\n",
    "        }, \"best_model.pth\")\n",
    "    else:\n",
    "        patience_counter += 1\n",
    "        if patience_counter >= patience:\n",
    "            print(f\"Early stopping tại epoch {epoch+1} (val_acc không cải thiện sau {patience} epoch)\")\n",
    "            break\n",
    "\n",
    "print(\"\\nTraining completed!\")\n",
    "print(f\"Best Validation Accuracy: {best_accuracy:.4f}\")\n",
    "\n",
    "# Lưu model\n",
    "model.save_pretrained(save_directory)\n",
    "tokenizer.save_pretrained(save_directory)"
   ]
  },
  {
   "cell_type": "code",
   "execution_count": 9,
   "id": "ce204690-e8b9-446e-8210-4ad73660efc6",
   "metadata": {
    "execution": {
     "iopub.execute_input": "2025-05-21T13:53:01.752979Z",
     "iopub.status.busy": "2025-05-21T13:53:01.752758Z",
     "iopub.status.idle": "2025-05-21T13:53:01.756843Z",
     "shell.execute_reply": "2025-05-21T13:53:01.756226Z",
     "shell.execute_reply.started": "2025-05-21T13:53:01.752962Z"
    },
    "trusted": true
   },
   "outputs": [],
   "source": [
    "# Dự đoán mẫu\n",
    "label_names = {\n",
    "    0: 'Vui vẻ',\n",
    "    1: 'Tức giận',\n",
    "    2: 'Buồn bã',\n",
    "    3: 'Sợ hãi',\n",
    "    4: 'Trung lập'\n",
    "}"
   ]
  },
  {
   "cell_type": "code",
   "execution_count": 10,
   "id": "68f59e2a-a704-4c03-a6a4-e4e2799b8c5a",
   "metadata": {
    "execution": {
     "iopub.execute_input": "2025-05-21T13:53:01.759271Z",
     "iopub.status.busy": "2025-05-21T13:53:01.759023Z",
     "iopub.status.idle": "2025-05-21T13:53:01.785306Z",
     "shell.execute_reply": "2025-05-21T13:53:01.784726Z",
     "shell.execute_reply.started": "2025-05-21T13:53:01.759254Z"
    },
    "trusted": true
   },
   "outputs": [
    {
     "name": "stdout",
     "output_type": "stream",
     "text": [
      "              precision    recall  f1-score   support\n",
      "\n",
      "      Vui vẻ       0.52      0.45      0.48       253\n",
      "    Tức giận       0.51      0.55      0.53       304\n",
      "     Buồn bã       0.59      0.63      0.61       322\n",
      "      Sợ hãi       0.80      0.76      0.78       286\n",
      "   Trung lập       0.56      0.55      0.55       281\n",
      "\n",
      "    accuracy                           0.59      1446\n",
      "   macro avg       0.59      0.59      0.59      1446\n",
      "weighted avg       0.59      0.59      0.59      1446\n",
      "\n"
     ]
    }
   ],
   "source": [
    "print(classification_report(true_labels, pred_labels, target_names=list(label_names.values())))"
   ]
  },
  {
   "cell_type": "code",
   "execution_count": 11,
   "id": "de12908d-02d1-4a9e-9315-e39a18813c70",
   "metadata": {
    "execution": {
     "iopub.execute_input": "2025-05-21T13:53:01.786431Z",
     "iopub.status.busy": "2025-05-21T13:53:01.786021Z",
     "iopub.status.idle": "2025-05-21T13:53:02.104731Z",
     "shell.execute_reply": "2025-05-21T13:53:02.103935Z",
     "shell.execute_reply.started": "2025-05-21T13:53:01.786413Z"
    },
    "trusted": true
   },
   "outputs": [
    {
     "data": {
      "image/png": "[encoded data removed]",
      "text/plain": [
       "<Figure size 800x600 with 2 Axes>"
      ]
     },
     "metadata": {},
     "output_type": "display_data"
    }
   ],
   "source": [
    "# Ma trận nhầm lẫn\n",
    "cm = confusion_matrix(true_labels, pred_labels)\n",
    "labels = list(label_names.values())\n",
    "\n",
    "plt.figure(figsize=(8, 6))\n",
    "sns.heatmap(cm, annot=True, fmt='d', cmap='Blues', xticklabels=labels, yticklabels=labels)\n",
    "plt.xlabel('Predicted Label')\n",
    "plt.ylabel('True Label')\n",
    "plt.title('Confusion Matrix')\n",
    "plt.tight_layout()\n",
    "plt.show()"
   ]
  },
  {
   "cell_type": "code",
   "execution_count": 12,
   "id": "d1e4aced",
   "metadata": {
    "execution": {
     "iopub.execute_input": "2025-05-21T13:53:02.106271Z",
     "iopub.status.busy": "2025-05-21T13:53:02.105516Z",
     "iopub.status.idle": "2025-05-21T13:53:02.983812Z",
     "shell.execute_reply": "2025-05-21T13:53:02.983097Z",
     "shell.execute_reply.started": "2025-05-21T13:53:02.106248Z"
    },
    "trusted": true
   },
   "outputs": [
    {
     "name": "stdout",
     "output_type": "stream",
     "text": [
      "\n",
      "Đã load mô hình tốt nhất tại epoch 3 với val_acc = 0.6058\n"
     ]
    }
   ],
   "source": [
    "# Load lại mô hình tốt nhất từ file .pth\n",
    "checkpoint = torch.load(\"best_model.pth\", map_location=device, weights_only=False)\n",
    "model.load_state_dict(checkpoint['model_state_dict'])\n",
    "optimizer.load_state_dict(checkpoint['optimizer_state_dict'])\n",
    "model.to(device)\n",
    "print(f\"\\nĐã load mô hình tốt nhất tại epoch {checkpoint['epoch']} với val_acc = {checkpoint['val_accuracy']:.4f}\")"
   ]
  },
  {
   "cell_type": "code",
   "execution_count": 13,
   "id": "b4cfb8e1",
   "metadata": {
    "execution": {
     "iopub.execute_input": "2025-05-21T13:53:02.984727Z",
     "iopub.status.busy": "2025-05-21T13:53:02.984495Z",
     "iopub.status.idle": "2025-05-21T13:53:02.991054Z",
     "shell.execute_reply": "2025-05-21T13:53:02.990326Z",
     "shell.execute_reply.started": "2025-05-21T13:53:02.984703Z"
    },
    "trusted": true
   },
   "outputs": [
    {
     "name": "stdout",
     "output_type": "stream",
     "text": [
      "\n",
      "--- Examples of Predictions ---\n",
      "✅ Correct | Text: tội mấy cái nhà kế bên\n",
      "  Predicted: Buồn bã, Actual: Buồn bã\n",
      "\n",
      "✅ Correct | Text: cơm nhà ko muốn muốn cơm_canh chan nước_mắt của nhà_nước ak\n",
      "  Predicted: Buồn bã, Actual: Buồn bã\n",
      "\n",
      "✅ Correct | Text: run quá không lái nổi xe\n",
      "  Predicted: Sợ hãi, Actual: Sợ hãi\n",
      "\n",
      "✅ Correct | Text: cali láo_nháo quá nhể\n",
      "  Predicted: Tức giận, Actual: Tức giận\n",
      "\n",
      "✅ Correct | Text: tuyệt_vời\n",
      "  Predicted: Vui vẻ, Actual: Vui vẻ\n",
      "\n",
      "✅ Correct | Text: chuyện tâm_linh có ai xem xong 1 thgian sau mơ thấy nhà cũ của mình bị xì gas k căn nhà hồi bé mình ở ý\n",
      "  Predicted: Sợ hãi, Actual: Sợ hãi\n",
      "\n",
      "❌ Incorrect | Text: xin_lỗi vì đã cười\n",
      "  Predicted: Vui vẻ, Actual: Buồn bã\n",
      "\n",
      "❌ Incorrect | Text: thoi ở nhà ngủ cho phẻ\n",
      "  Predicted: Tức giận, Actual: Vui vẻ\n",
      "\n",
      "❌ Incorrect | Text: kinh chưa\n",
      "  Predicted: Sợ hãi, Actual: Trung lập\n",
      "\n",
      "✅ Correct | Text: đây là trên sapa thì phải\n",
      "  Predicted: Trung lập, Actual: Trung lập\n",
      "\n"
     ]
    }
   ],
   "source": [
    "print(\"\\n--- Examples of Predictions ---\")\n",
    "for i in range(10):\n",
    "    pred = pred_labels[i]\n",
    "    true = true_labels[i]\n",
    "    text = comments.iloc[val_dataset.indices[i]]['text']\n",
    "    status = \"✅ Correct\" if pred == true else \"❌ Incorrect\"\n",
    "    print(f\"{status} | Text: {text}\\n  Predicted: {label_names[pred]}, Actual: {label_names[true]}\\n\")\n"
   ]
  },
  {
   "cell_type": "code",
   "execution_count": 14,
   "id": "363d5440",
   "metadata": {
    "execution": {
     "iopub.execute_input": "2025-05-21T13:53:02.991904Z",
     "iopub.status.busy": "2025-05-21T13:53:02.991706Z",
     "iopub.status.idle": "2025-05-21T13:53:03.010819Z",
     "shell.execute_reply": "2025-05-21T13:53:03.010043Z",
     "shell.execute_reply.started": "2025-05-21T13:53:02.991883Z"
    },
    "trusted": true
   },
   "outputs": [],
   "source": [
    "def predict_text(text):\n",
    "    model.eval()\n",
    "    encoded = tokenizer.encode_plus(\n",
    "        text,\n",
    "        add_special_tokens=True,\n",
    "        padding='max_length',\n",
    "        max_length=128,\n",
    "        truncation=True,\n",
    "        return_attention_mask=True,\n",
    "        return_tensors='pt'\n",
    "    )\n",
    "    input_ids = encoded['input_ids'].to(model.device)\n",
    "    attention_mask = encoded['attention_mask'].to(model.device)\n",
    "\n",
    "    with torch.no_grad():\n",
    "        outputs = model(input_ids, attention_mask=attention_mask)\n",
    "        logits = outputs.logits\n",
    "        predicted_class = torch.argmax(logits, dim=1).item()\n",
    "\n",
    "    print(f\"\\n Dự đoán cảm xúc: {label_names[predicted_class]}\")\n"
   ]
  },
  {
   "cell_type": "code",
   "execution_count": 15,
   "id": "3fae8892",
   "metadata": {
    "execution": {
     "iopub.execute_input": "2025-05-21T13:53:03.011874Z",
     "iopub.status.busy": "2025-05-21T13:53:03.011584Z",
     "iopub.status.idle": "2025-05-21T13:53:03.158824Z",
     "shell.execute_reply": "2025-05-21T13:53:03.158203Z",
     "shell.execute_reply.started": "2025-05-21T13:53:03.011850Z"
    },
    "trusted": true
   },
   "outputs": [
    {
     "name": "stdout",
     "output_type": "stream",
     "text": [
      "\n",
      " Bình luận: nghe bạn nam bảo : khổ thế nhờ đã dịch cô vít thì chớ mà xót🥺\n",
      "\n",
      " Dự đoán cảm xúc: Buồn bã\n",
      "\n",
      " Bình luận: mày giỡn mặt tao à?\n",
      "\n",
      " Dự đoán cảm xúc: Tức giận\n",
      "\n",
      " Bình luận: trời ơi vui quá đi 😍 hôm nay được nghỉ học\n",
      "\n",
      " Dự đoán cảm xúc: Vui vẻ\n",
      "\n",
      " Bình luận: bạn nữ đó nhìn buồn thật sự\n",
      "\n",
      " Dự đoán cảm xúc: Buồn bã\n",
      "\n",
      " Bình luận: tôi cảm thấy lo lắng khi ra đường bây giờ\n",
      "\n",
      " Dự đoán cảm xúc: Sợ hãi\n",
      "\n",
      " Bình luận: haiz, chẳng còn gì để nói nữa\n",
      "\n",
      " Dự đoán cảm xúc: Buồn bã\n",
      "\n",
      " Bình luận: mấy bạn bình tĩnh, chuyện đâu còn có đó\n",
      "\n",
      " Dự đoán cảm xúc: Tức giận\n",
      "\n",
      " Bình luận: cảm ơn bạn rất nhiều vì đã giúp tôi\n",
      "\n",
      " Dự đoán cảm xúc: Vui vẻ\n",
      "\n",
      " Bình luận: tôi ghét cái cách bạn đối xử với tôi\n",
      "\n",
      " Dự đoán cảm xúc: Tức giận\n",
      "\n",
      " Bình luận: mình rất hồi hộp chờ kết quả thi\n",
      "\n",
      " Dự đoán cảm xúc: Vui vẻ\n"
     ]
    }
   ],
   "source": [
    "test_texts = [\n",
    "    \"nghe bạn nam bảo : khổ thế nhờ đã dịch cô vít thì chớ mà xót🥺\",\n",
    "    \"mày giỡn mặt tao à?\",\n",
    "    \"trời ơi vui quá đi 😍 hôm nay được nghỉ học\",\n",
    "    \"bạn nữ đó nhìn buồn thật sự\",\n",
    "    \"tôi cảm thấy lo lắng khi ra đường bây giờ\",\n",
    "    \"haiz, chẳng còn gì để nói nữa\",\n",
    "    \"mấy bạn bình tĩnh, chuyện đâu còn có đó\",\n",
    "    \"cảm ơn bạn rất nhiều vì đã giúp tôi\",\n",
    "    \"tôi ghét cái cách bạn đối xử với tôi\",\n",
    "    \"mình rất hồi hộp chờ kết quả thi\"\n",
    "]\n",
    "\n",
    "for text in test_texts:\n",
    "    print(f\"\\n Bình luận: {text}\")\n",
    "    predict_text(text)\n"
   ]
  },
  {
   "cell_type": "code",
   "execution_count": 16,
   "id": "4b89e833-3c98-4dcf-a8e6-93e6533dde7e",
   "metadata": {
    "execution": {
     "iopub.execute_input": "2025-05-21T13:53:03.159790Z",
     "iopub.status.busy": "2025-05-21T13:53:03.159523Z",
     "iopub.status.idle": "2025-05-21T13:54:27.744061Z",
     "shell.execute_reply": "2025-05-21T13:54:27.742977Z",
     "shell.execute_reply.started": "2025-05-21T13:53:03.159764Z"
    },
    "trusted": true
   },
   "outputs": [
    {
     "name": "stdout",
     "output_type": "stream",
     "text": [
      "  adding: kaggle/working/ (stored 0%)\n",
      "  adding: kaggle/working/best_model.pth"
     ]
    },
    {
     "name": "stderr",
     "output_type": "stream",
     "text": [
      "huggingface/tokenizers: The current process just got forked, after parallelism has already been used. Disabling parallelism to avoid deadlocks...\n",
      "To disable this warning, you can either:\n",
      "\t- Avoid using `tokenizers` before the fork if possible\n",
      "\t- Explicitly set the environment variable TOKENIZERS_PARALLELISM=(true | false)\n"
     ]
    },
    {
     "name": "stdout",
     "output_type": "stream",
     "text": [
      " (deflated 23%)\n",
      "  adding: kaggle/working/.virtual_documents/ (stored 0%)\n",
      "  adding: kaggle/working/vibert-base-cased/ (stored 0%)\n",
      "  adding: kaggle/working/vibert-base-cased/tokenizer.json (deflated 70%)\n",
      "  adding: kaggle/working/vibert-base-cased/model.safetensors (deflated 8%)\n",
      "  adding: kaggle/working/vibert-base-cased/vocab.txt (deflated 48%)\n",
      "  adding: kaggle/working/vibert-base-cased/config.json (deflated 56%)\n",
      "  adding: kaggle/working/vibert-base-cased/tokenizer_config.json (deflated 74%)\n",
      "  adding: kaggle/working/vibert-base-cased/special_tokens_map.json (deflated 42%)\n"
     ]
    }
   ],
   "source": [
    "!zip -r /kaggle/working/vibert-base-cased.zip /kaggle/working"
   ]
  }
 ],
 "metadata": {
  "kaggle": {
   "accelerator": "gpu",
   "dataSources": [
    {
     "datasetId": 7467876,
     "sourceId": 11882251,
     "sourceType": "datasetVersion"
    }
   ],
   "dockerImageVersionId": 31041,
   "isGpuEnabled": true,
   "isInternetEnabled": true,
   "language": "python",
   "sourceType": "notebook"
  },
  "kernelspec": {
   "display_name": "venv",
   "language": "python",
   "name": "python3"
  },
  "language_info": {
   "codemirror_mode": {
    "name": "ipython",
    "version": 3
   },
   "file_extension": ".py",
   "mimetype": "text/x-python",
   "name": "python",
   "nbconvert_exporter": "python",
   "pygments_lexer": "ipython3",
   "version": "3.10.6"
  }
 },
 "nbformat": 4,
 "nbformat_minor": 5
}
