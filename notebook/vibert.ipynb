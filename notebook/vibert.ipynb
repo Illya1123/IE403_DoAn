{
 "cells": [
  {
   "cell_type": "code",
   "execution_count": 1,
   "id": "54fbb94c",
   "metadata": {
    "execution": {
     "iopub.execute_input": "2025-06-14T08:03:23.553734Z",
     "iopub.status.busy": "2025-06-14T08:03:23.553469Z",
     "iopub.status.idle": "2025-06-14T08:03:36.156517Z",
     "shell.execute_reply": "2025-06-14T08:03:36.155783Z",
     "shell.execute_reply.started": "2025-06-14T08:03:23.553712Z"
    },
    "trusted": true
   },
   "outputs": [],
   "source": [
    "import numpy as np\n",
    "import pandas as pd\n",
    "import torch\n",
    "from torch.utils.data import DataLoader, TensorDataset, random_split\n",
    "from transformers import AutoTokenizer, AutoModelForSequenceClassification\n",
    "import os\n",
    "import matplotlib.pyplot as plt\n",
    "from tqdm.notebook import tqdm\n",
    "from torch.optim import AdamW\n",
    "from sklearn.metrics import accuracy_score, precision_recall_fscore_support, classification_report, confusion_matrix\n",
    "from sklearn.utils.class_weight import compute_class_weight\n",
    "from torch.nn import CrossEntropyLoss\n",
    "import seaborn as sns"
   ]
  },
  {
   "cell_type": "code",
   "execution_count": 2,
   "id": "3e686abb",
   "metadata": {
    "execution": {
     "iopub.execute_input": "2025-06-14T08:03:36.157979Z",
     "iopub.status.busy": "2025-06-14T08:03:36.157619Z",
     "iopub.status.idle": "2025-06-14T08:03:36.162560Z",
     "shell.execute_reply": "2025-06-14T08:03:36.161721Z",
     "shell.execute_reply.started": "2025-06-14T08:03:36.157951Z"
    },
    "trusted": true
   },
   "outputs": [],
   "source": [
    "# Đường dẫn dữ liệu\n",
    "data_path = '/kaggle/input/tiktok_comments_balanced_v2.csv'"
   ]
  },
  {
   "cell_type": "code",
   "execution_count": 3,
   "id": "359a9497",
   "metadata": {
    "execution": {
     "iopub.execute_input": "2025-06-14T08:03:36.163653Z",
     "iopub.status.busy": "2025-06-14T08:03:36.163398Z",
     "iopub.status.idle": "2025-06-14T08:03:36.238937Z",
     "shell.execute_reply": "2025-06-14T08:03:36.238296Z",
     "shell.execute_reply.started": "2025-06-14T08:03:36.163629Z"
    },
    "trusted": true
   },
   "outputs": [],
   "source": [
    "# Đọc dữ liệu\n",
    "comments = pd.read_csv(data_path, usecols=['emotion_label', 'text'])\n",
    "comments = comments.dropna(subset=['emotion_label'])\n",
    "comments['emotion_label'] = comments['emotion_label'].astype(int)\n",
    "\n",
    "# Không xử lý gì văn bản — giữ nguyên\n",
    "comments['text'] = comments['text'].astype(str)"
   ]
  },
  {
   "cell_type": "code",
   "execution_count": 4,
   "id": "53743595",
   "metadata": {
    "execution": {
     "iopub.execute_input": "2025-06-14T08:03:36.240864Z",
     "iopub.status.busy": "2025-06-14T08:03:36.240659Z",
     "iopub.status.idle": "2025-06-14T08:04:03.478185Z",
     "shell.execute_reply": "2025-06-14T08:04:03.477422Z",
     "shell.execute_reply.started": "2025-06-14T08:03:36.240848Z"
    },
    "trusted": true
   },
   "outputs": [
    {
     "data": {
      "application/vnd.jupyter.widget-view+json": {
       "model_id": "ee5644a51c154f708095acd13b73c335",
       "version_major": 2,
       "version_minor": 0
      },
      "text/plain": [
       "config.json:   0%|          | 0.00/1.40k [00:00<?, ?B/s]"
      ]
     },
     "metadata": {},
     "output_type": "display_data"
    },
    {
     "data": {
      "application/vnd.jupyter.widget-view+json": {
       "model_id": "6a9063f3f2b240a29b12e451de5685ce",
       "version_major": 2,
       "version_minor": 0
      },
      "text/plain": [
       "vocab.txt:   0%|          | 0.00/255k [00:00<?, ?B/s]"
      ]
     },
     "metadata": {},
     "output_type": "display_data"
    },
    {
     "name": "stderr",
     "output_type": "stream",
     "text": [
      "2025-06-14 08:03:40.127367: E external/local_xla/xla/stream_executor/cuda/cuda_fft.cc:477] Unable to register cuFFT factory: Attempting to register factory for plugin cuFFT when one has already been registered\n",
      "WARNING: All log messages before absl::InitializeLog() is called are written to STDERR\n",
      "E0000 00:00:1749888220.354021      35 cuda_dnn.cc:8310] Unable to register cuDNN factory: Attempting to register factory for plugin cuDNN when one has already been registered\n",
      "E0000 00:00:1749888220.418494      35 cuda_blas.cc:1418] Unable to register cuBLAS factory: Attempting to register factory for plugin cuBLAS when one has already been registered\n"
     ]
    },
    {
     "data": {
      "application/vnd.jupyter.widget-view+json": {
       "model_id": "4e58b19a1cbf4dc49ccdd71c7631513f",
       "version_major": 2,
       "version_minor": 0
      },
      "text/plain": [
       "pytorch_model.bin:   0%|          | 0.00/581M [00:00<?, ?B/s]"
      ]
     },
     "metadata": {},
     "output_type": "display_data"
    },
    {
     "name": "stderr",
     "output_type": "stream",
     "text": [
      "Some weights of BertForSequenceClassification were not initialized from the model checkpoint at FPTAI/vibert-base-cased and are newly initialized: ['classifier.bias', 'classifier.weight']\n",
      "You should probably TRAIN this model on a down-stream task to be able to use it for predictions and inference.\n"
     ]
    }
   ],
   "source": [
    "# Tokenizer và Model\n",
    "model_name = \"FPTAI/vibert-base-cased\"\n",
    "tokenizer = AutoTokenizer.from_pretrained(model_name)\n",
    "num_labels = 5\n",
    "model = AutoModelForSequenceClassification.from_pretrained(model_name, num_labels=num_labels)"
   ]
  },
  {
   "cell_type": "code",
   "execution_count": 5,
   "id": "84e042e5",
   "metadata": {
    "execution": {
     "iopub.execute_input": "2025-06-14T08:04:03.479334Z",
     "iopub.status.busy": "2025-06-14T08:04:03.478865Z",
     "iopub.status.idle": "2025-06-14T08:04:04.882378Z",
     "shell.execute_reply": "2025-06-14T08:04:04.881665Z",
     "shell.execute_reply.started": "2025-06-14T08:04:03.479314Z"
    },
    "trusted": true
   },
   "outputs": [
    {
     "data": {
      "application/vnd.jupyter.widget-view+json": {
       "model_id": "76012d5dc0cb4ccf8ed8d63d81be6a4b",
       "version_major": 2,
       "version_minor": 0
      },
      "text/plain": [
       "model.safetensors:   0%|          | 0.00/581M [00:00<?, ?B/s]"
      ]
     },
     "metadata": {},
     "output_type": "display_data"
    }
   ],
   "source": [
    "# Mã hóa dữ liệu\n",
    "encoded_comments = tokenizer.batch_encode_plus(\n",
    "    comments['text'].tolist(),\n",
    "    add_special_tokens=True,\n",
    "    padding='max_length',\n",
    "    max_length=128,\n",
    "    truncation=True,\n",
    "    return_attention_mask=True,\n",
    "    return_tensors='pt'\n",
    ")\n",
    "\n",
    "input_ids = encoded_comments['input_ids']\n",
    "attention_masks = encoded_comments['attention_mask']\n",
    "labels = torch.tensor(comments['emotion_label'].values)\n",
    "\n",
    "dataset = TensorDataset(input_ids, attention_masks, labels)"
   ]
  },
  {
   "cell_type": "code",
   "execution_count": 6,
   "id": "f55fd9a3",
   "metadata": {
    "execution": {
     "iopub.execute_input": "2025-06-14T08:04:04.883533Z",
     "iopub.status.busy": "2025-06-14T08:04:04.883244Z",
     "iopub.status.idle": "2025-06-14T08:04:04.890045Z",
     "shell.execute_reply": "2025-06-14T08:04:04.889466Z",
     "shell.execute_reply.started": "2025-06-14T08:04:04.883513Z"
    },
    "trusted": true
   },
   "outputs": [],
   "source": [
    "# Chia tập train/val\n",
    "train_size = int(0.9 * len(dataset))\n",
    "val_size = len(dataset) - train_size\n",
    "train_dataset, val_dataset = random_split(dataset, [train_size, val_size])\n",
    "batch_size = 16\n",
    "train_loader = DataLoader(train_dataset, batch_size=batch_size, shuffle=True)\n",
    "val_loader = DataLoader(val_dataset, batch_size=batch_size)"
   ]
  },
  {
   "cell_type": "code",
   "execution_count": 7,
   "id": "92514ba8-c3f9-47aa-860d-9a3d796b47c1",
   "metadata": {
    "execution": {
     "iopub.execute_input": "2025-06-14T08:04:04.891033Z",
     "iopub.status.busy": "2025-06-14T08:04:04.890758Z",
     "iopub.status.idle": "2025-06-14T08:04:04.906085Z",
     "shell.execute_reply": "2025-06-14T08:04:04.905284Z",
     "shell.execute_reply.started": "2025-06-14T08:04:04.891007Z"
    },
    "trusted": true
   },
   "outputs": [],
   "source": [
    "save_directory = '/kaggle/working/vibert-base-cased'\n",
    "os.makedirs(save_directory, exist_ok=True)"
   ]
  },
  {
   "cell_type": "code",
   "execution_count": 8,
   "id": "34cc2525",
   "metadata": {
    "execution": {
     "iopub.execute_input": "2025-06-14T08:04:04.907605Z",
     "iopub.status.busy": "2025-06-14T08:04:04.907321Z",
     "iopub.status.idle": "2025-06-14T08:25:54.309695Z",
     "shell.execute_reply": "2025-06-14T08:25:54.309062Z",
     "shell.execute_reply.started": "2025-06-14T08:04:04.907571Z"
    },
    "trusted": true
   },
   "outputs": [
    {
     "data": {
      "application/vnd.jupyter.widget-view+json": {
       "model_id": "699756f6204d4c49b8695052ff86c156",
       "version_major": 2,
       "version_minor": 0
      },
      "text/plain": [
       "Training Epoch 1:   0%|          | 0/776 [00:00<?, ?it/s]"
      ]
     },
     "metadata": {},
     "output_type": "display_data"
    },
    {
     "data": {
      "application/vnd.jupyter.widget-view+json": {
       "model_id": "53e6bd399fbe450c96aa3315b20a20ce",
       "version_major": 2,
       "version_minor": 0
      },
      "text/plain": [
       "Validation Epoch 1:   0%|          | 0/87 [00:00<?, ?it/s]"
      ]
     },
     "metadata": {},
     "output_type": "display_data"
    },
    {
     "name": "stdout",
     "output_type": "stream",
     "text": [
      "[Epoch 1] Train Loss: 1.2282 | Val Loss: 1.0924 | Val Accuracy: 0.5798\n"
     ]
    },
    {
     "data": {
      "application/vnd.jupyter.widget-view+json": {
       "model_id": "589bbf4e0a294f4eba9a3476696e6238",
       "version_major": 2,
       "version_minor": 0
      },
      "text/plain": [
       "Training Epoch 2:   0%|          | 0/776 [00:00<?, ?it/s]"
      ]
     },
     "metadata": {},
     "output_type": "display_data"
    },
    {
     "data": {
      "application/vnd.jupyter.widget-view+json": {
       "model_id": "d1c1db6c7d4e40d285c3fb48d355bf98",
       "version_major": 2,
       "version_minor": 0
      },
      "text/plain": [
       "Validation Epoch 2:   0%|          | 0/87 [00:00<?, ?it/s]"
      ]
     },
     "metadata": {},
     "output_type": "display_data"
    },
    {
     "name": "stdout",
     "output_type": "stream",
     "text": [
      "[Epoch 2] Train Loss: 0.9538 | Val Loss: 1.2549 | Val Accuracy: 0.5123\n"
     ]
    },
    {
     "data": {
      "application/vnd.jupyter.widget-view+json": {
       "model_id": "2693c44493f240ba936d38fa443aa2c1",
       "version_major": 2,
       "version_minor": 0
      },
      "text/plain": [
       "Training Epoch 3:   0%|          | 0/776 [00:00<?, ?it/s]"
      ]
     },
     "metadata": {},
     "output_type": "display_data"
    },
    {
     "data": {
      "application/vnd.jupyter.widget-view+json": {
       "model_id": "085dc1c55dea454e98ad265f1089c359",
       "version_major": 2,
       "version_minor": 0
      },
      "text/plain": [
       "Validation Epoch 3:   0%|          | 0/87 [00:00<?, ?it/s]"
      ]
     },
     "metadata": {},
     "output_type": "display_data"
    },
    {
     "name": "stdout",
     "output_type": "stream",
     "text": [
      "[Epoch 3] Train Loss: 0.7507 | Val Loss: 1.0806 | Val Accuracy: 0.6255\n"
     ]
    },
    {
     "data": {
      "application/vnd.jupyter.widget-view+json": {
       "model_id": "f1d732cefb6c43d0a40a0285cf5fdec0",
       "version_major": 2,
       "version_minor": 0
      },
      "text/plain": [
       "Training Epoch 4:   0%|          | 0/776 [00:00<?, ?it/s]"
      ]
     },
     "metadata": {},
     "output_type": "display_data"
    },
    {
     "data": {
      "application/vnd.jupyter.widget-view+json": {
       "model_id": "edbed0bbc5394d45bcf263e262bb80c7",
       "version_major": 2,
       "version_minor": 0
      },
      "text/plain": [
       "Validation Epoch 4:   0%|          | 0/87 [00:00<?, ?it/s]"
      ]
     },
     "metadata": {},
     "output_type": "display_data"
    },
    {
     "name": "stdout",
     "output_type": "stream",
     "text": [
      "[Epoch 4] Train Loss: 0.5295 | Val Loss: 1.1651 | Val Accuracy: 0.6248\n"
     ]
    },
    {
     "data": {
      "application/vnd.jupyter.widget-view+json": {
       "model_id": "60710b82da63472597022beb10f9553d",
       "version_major": 2,
       "version_minor": 0
      },
      "text/plain": [
       "Training Epoch 5:   0%|          | 0/776 [00:00<?, ?it/s]"
      ]
     },
     "metadata": {},
     "output_type": "display_data"
    },
    {
     "data": {
      "application/vnd.jupyter.widget-view+json": {
       "model_id": "9bbae6d4506e4f38b83a9cdb75ee3498",
       "version_major": 2,
       "version_minor": 0
      },
      "text/plain": [
       "Validation Epoch 5:   0%|          | 0/87 [00:00<?, ?it/s]"
      ]
     },
     "metadata": {},
     "output_type": "display_data"
    },
    {
     "name": "stdout",
     "output_type": "stream",
     "text": [
      "[Epoch 5] Train Loss: 0.3958 | Val Loss: 1.2503 | Val Accuracy: 0.6335\n"
     ]
    },
    {
     "data": {
      "application/vnd.jupyter.widget-view+json": {
       "model_id": "da286881ad99448a9d95bf2f0da44f60",
       "version_major": 2,
       "version_minor": 0
      },
      "text/plain": [
       "Training Epoch 6:   0%|          | 0/776 [00:00<?, ?it/s]"
      ]
     },
     "metadata": {},
     "output_type": "display_data"
    },
    {
     "data": {
      "application/vnd.jupyter.widget-view+json": {
       "model_id": "0150381b18aa49dca9a836d1d21a5954",
       "version_major": 2,
       "version_minor": 0
      },
      "text/plain": [
       "Validation Epoch 6:   0%|          | 0/87 [00:00<?, ?it/s]"
      ]
     },
     "metadata": {},
     "output_type": "display_data"
    },
    {
     "name": "stdout",
     "output_type": "stream",
     "text": [
      "[Epoch 6] Train Loss: 0.3163 | Val Loss: 1.3603 | Val Accuracy: 0.6277\n"
     ]
    },
    {
     "data": {
      "application/vnd.jupyter.widget-view+json": {
       "model_id": "1685efa8063d44b2b3cc876e5f0ddac4",
       "version_major": 2,
       "version_minor": 0
      },
      "text/plain": [
       "Training Epoch 7:   0%|          | 0/776 [00:00<?, ?it/s]"
      ]
     },
     "metadata": {},
     "output_type": "display_data"
    },
    {
     "data": {
      "application/vnd.jupyter.widget-view+json": {
       "model_id": "00e465aaec15479abada0c4bc876add0",
       "version_major": 2,
       "version_minor": 0
      },
      "text/plain": [
       "Validation Epoch 7:   0%|          | 0/87 [00:00<?, ?it/s]"
      ]
     },
     "metadata": {},
     "output_type": "display_data"
    },
    {
     "name": "stdout",
     "output_type": "stream",
     "text": [
      "[Epoch 7] Train Loss: 0.2670 | Val Loss: 1.5077 | Val Accuracy: 0.6226\n"
     ]
    },
    {
     "data": {
      "application/vnd.jupyter.widget-view+json": {
       "model_id": "f4168cb26b0e43d893de1323648a08f5",
       "version_major": 2,
       "version_minor": 0
      },
      "text/plain": [
       "Training Epoch 8:   0%|          | 0/776 [00:00<?, ?it/s]"
      ]
     },
     "metadata": {},
     "output_type": "display_data"
    },
    {
     "data": {
      "application/vnd.jupyter.widget-view+json": {
       "model_id": "101b7b6b7400452d88fc843fb6e5ef38",
       "version_major": 2,
       "version_minor": 0
      },
      "text/plain": [
       "Validation Epoch 8:   0%|          | 0/87 [00:00<?, ?it/s]"
      ]
     },
     "metadata": {},
     "output_type": "display_data"
    },
    {
     "name": "stdout",
     "output_type": "stream",
     "text": [
      "[Epoch 8] Train Loss: 0.2139 | Val Loss: 1.6426 | Val Accuracy: 0.6263\n",
      "Early stopping tại epoch 8 (val_acc không cải thiện sau 3 epoch)\n",
      "\n",
      "Training completed!\n",
      "Best Validation Accuracy: 0.6335\n"
     ]
    },
    {
     "data": {
      "text/plain": [
       "('/kaggle/working/vibert-base-cased/tokenizer_config.json',\n",
       " '/kaggle/working/vibert-base-cased/special_tokens_map.json',\n",
       " '/kaggle/working/vibert-base-cased/vocab.txt',\n",
       " '/kaggle/working/vibert-base-cased/added_tokens.json',\n",
       " '/kaggle/working/vibert-base-cased/tokenizer.json')"
      ]
     },
     "execution_count": 8,
     "metadata": {},
     "output_type": "execute_result"
    }
   ],
   "source": [
    "# Thiết bị\n",
    "device = torch.device('cuda' if torch.cuda.is_available() else 'cpu')\n",
    "model.to(device)\n",
    "\n",
    "# Tính class weights\n",
    "all_labels = []\n",
    "for batch in train_loader:\n",
    "    _, _, labels = batch\n",
    "    all_labels.extend(labels.numpy())\n",
    "all_labels = np.array(all_labels)\n",
    "\n",
    "class_weights = compute_class_weight(class_weight='balanced', classes=np.unique(all_labels), y=all_labels)\n",
    "class_weights = torch.tensor(class_weights, dtype=torch.float).to(device)\n",
    "loss_fn = CrossEntropyLoss(weight=class_weights)\n",
    "\n",
    "# Optimizer\n",
    "optimizer = AdamW(model.parameters(), lr=5e-5)\n",
    "\n",
    "# Training loop\n",
    "num_epochs = 10\n",
    "patience = 3\n",
    "best_accuracy = 0\n",
    "patience_counter = 0\n",
    "\n",
    "train_losses = []\n",
    "val_losses = []\n",
    "val_accuracies = []\n",
    "\n",
    "for epoch in range(num_epochs):\n",
    "    model.train()\n",
    "    total_loss = 0\n",
    "    for batch in tqdm(train_loader, desc=f\"Training Epoch {epoch+1}\"):\n",
    "        input_ids, attention_mask, labels = [x.to(device) for x in batch]\n",
    "        optimizer.zero_grad()\n",
    "        outputs = model(input_ids, attention_mask=attention_mask)\n",
    "        loss = loss_fn(outputs.logits, labels)\n",
    "        loss.backward()\n",
    "        optimizer.step()\n",
    "        total_loss += loss.item()\n",
    "\n",
    "    avg_train_loss = total_loss / len(train_loader)\n",
    "    train_losses.append(avg_train_loss)\n",
    "\n",
    "    # Validation\n",
    "    model.eval()\n",
    "    true_labels, pred_labels = [], []\n",
    "    val_loss = 0\n",
    "    with torch.no_grad():\n",
    "        for batch in tqdm(val_loader, desc=f\"Validation Epoch {epoch+1}\"):\n",
    "            input_ids, attention_mask, labels = [x.to(device) for x in batch]\n",
    "            outputs = model(input_ids, attention_mask=attention_mask)\n",
    "            loss = loss_fn(outputs.logits, labels)\n",
    "            val_loss += loss.item()\n",
    "            preds = torch.argmax(outputs.logits, dim=1)\n",
    "            pred_labels.extend(preds.cpu().numpy())\n",
    "            true_labels.extend(labels.cpu().numpy())\n",
    "\n",
    "    avg_val_loss = val_loss / len(val_loader)\n",
    "    val_losses.append(avg_val_loss)\n",
    "    accuracy = accuracy_score(true_labels, pred_labels)\n",
    "    val_accuracies.append(accuracy)\n",
    "\n",
    "    print(f\"[Epoch {epoch+1}] Train Loss: {avg_train_loss:.4f} | \"\n",
    "          f\"Val Loss: {avg_val_loss:.4f} | Val Accuracy: {accuracy:.4f}\")\n",
    "\n",
    "    # Early stopping\n",
    "    if accuracy > best_accuracy:\n",
    "        best_accuracy = accuracy\n",
    "        patience_counter = 0\n",
    "        torch.save({\n",
    "            'epoch': epoch + 1,\n",
    "            'model_state_dict': model.state_dict(),\n",
    "            'optimizer_state_dict': optimizer.state_dict(),\n",
    "            'val_accuracy': accuracy,\n",
    "            'loss': avg_val_loss\n",
    "        }, \"best_model.pth\")\n",
    "    else:\n",
    "        patience_counter += 1\n",
    "        if patience_counter >= patience:\n",
    "            print(f\"Early stopping tại epoch {epoch+1} (val_acc không cải thiện sau {patience} epoch)\")\n",
    "            break\n",
    "\n",
    "print(\"\\nTraining completed!\")\n",
    "print(f\"Best Validation Accuracy: {best_accuracy:.4f}\")\n",
    "\n",
    "# Lưu model\n",
    "model.save_pretrained(save_directory)\n",
    "tokenizer.save_pretrained(save_directory)"
   ]
  },
  {
   "cell_type": "code",
   "execution_count": 9,
   "id": "ce204690-e8b9-446e-8210-4ad73660efc6",
   "metadata": {
    "execution": {
     "iopub.execute_input": "2025-06-14T08:25:54.311134Z",
     "iopub.status.busy": "2025-06-14T08:25:54.310497Z",
     "iopub.status.idle": "2025-06-14T08:25:54.314632Z",
     "shell.execute_reply": "2025-06-14T08:25:54.313874Z",
     "shell.execute_reply.started": "2025-06-14T08:25:54.311108Z"
    },
    "trusted": true
   },
   "outputs": [],
   "source": [
    "# Dự đoán mẫu\n",
    "label_names = {\n",
    "    0: 'Vui vẻ',\n",
    "    1: 'Tức giận',\n",
    "    2: 'Buồn bã',\n",
    "    3: 'Sợ hãi',\n",
    "    4: 'Khác'\n",
    "}"
   ]
  },
  {
   "cell_type": "code",
   "execution_count": null,
   "id": "68f59e2a-a704-4c03-a6a4-e4e2799b8c5a",
   "metadata": {
    "execution": {
     "iopub.execute_input": "2025-06-14T08:25:54.316948Z",
     "iopub.status.busy": "2025-06-14T08:25:54.316694Z",
     "iopub.status.idle": "2025-06-14T08:26:00.213544Z",
     "shell.execute_reply": "2025-06-14T08:26:00.212964Z",
     "shell.execute_reply.started": "2025-06-14T08:25:54.316925Z"
    },
    "trusted": true
   },
   "outputs": [
    {
     "data": {
      "application/vnd.jupyter.widget-view+json": {
       "model_id": "28b05c3bebd1473e81fd418dca410f56",
       "version_major": 2,
       "version_minor": 0
      },
      "text/plain": [
       "Predicting Best Model:   0%|          | 0/87 [00:00<?, ?it/s]"
      ]
     },
     "metadata": {},
     "output_type": "display_data"
    },
    {
     "name": "stdout",
     "output_type": "stream",
     "text": [
      "              precision    recall  f1-score   support\n",
      "\n",
      "      Vui vẻ     0.6311    0.5240    0.5726       271\n",
      "    Tức giận     0.6342    0.5780    0.6048       282\n",
      "     Buồn bã     0.5491    0.6858    0.6099       261\n",
      "      Sợ hãi     0.7492    0.8147    0.7806       286\n",
      "        Khác     0.6023    0.5612    0.5810       278\n",
      "\n",
      "    accuracy                         0.6335      1378\n",
      "   macro avg     0.6332    0.6327    0.6298      1378\n",
      "weighted avg     0.6349    0.6335    0.6311      1378\n",
      "\n"
     ]
    }
   ],
   "source": [
    "checkpoint = torch.load(\"best_model.pth\", map_location=device, weights_only=False)\n",
    "model.load_state_dict(checkpoint['model_state_dict'])\n",
    "model.eval()\n",
    "\n",
    "true_labels, pred_labels = [], []\n",
    "with torch.no_grad():\n",
    "    for batch in tqdm(val_loader, desc=\"Predicting Best Model\"):\n",
    "        input_ids, attention_mask, labels = [x.to(device) for x in batch]\n",
    "        outputs = model(input_ids, attention_mask=attention_mask)\n",
    "        preds = torch.argmax(outputs.logits, dim=1)\n",
    "        pred_labels.extend(preds.cpu().numpy())\n",
    "        true_labels.extend(labels.cpu().numpy())\n",
    "\n",
    "print(classification_report(true_labels, pred_labels, target_names=list(label_names.values()), digits=4))"
   ]
  },
  {
   "cell_type": "code",
   "execution_count": 11,
   "id": "de12908d-02d1-4a9e-9315-e39a18813c70",
   "metadata": {
    "execution": {
     "iopub.execute_input": "2025-06-14T08:26:00.214529Z",
     "iopub.status.busy": "2025-06-14T08:26:00.214262Z",
     "iopub.status.idle": "2025-06-14T08:26:00.598682Z",
     "shell.execute_reply": "2025-06-14T08:26:00.597919Z",
     "shell.execute_reply.started": "2025-06-14T08:26:00.214506Z"
    },
    "trusted": true
   },
   "outputs": [
    {
     "data": {
      "image/png": "[encoded data removed]",
      "text/plain": [
       "<Figure size 800x600 with 2 Axes>"
      ]
     },
     "metadata": {},
     "output_type": "display_data"
    }
   ],
   "source": [
    "# Ma trận nhầm lẫn\n",
    "cm = confusion_matrix(true_labels, pred_labels)\n",
    "labels = list(label_names.values())\n",
    "\n",
    "plt.figure(figsize=(8, 6))\n",
    "sns.heatmap(cm, annot=True, fmt='d', cmap='Blues', xticklabels=labels, yticklabels=labels)\n",
    "plt.xlabel('Predicted Label')\n",
    "plt.ylabel('True Label')\n",
    "plt.title('Confusion Matrix')\n",
    "plt.tight_layout()\n",
    "plt.show()"
   ]
  },
  {
   "cell_type": "code",
   "execution_count": 12,
   "id": "d1e4aced",
   "metadata": {
    "execution": {
     "iopub.execute_input": "2025-06-14T08:26:00.599747Z",
     "iopub.status.busy": "2025-06-14T08:26:00.599456Z",
     "iopub.status.idle": "2025-06-14T08:26:01.937952Z",
     "shell.execute_reply": "2025-06-14T08:26:01.937329Z",
     "shell.execute_reply.started": "2025-06-14T08:26:00.599729Z"
    },
    "trusted": true
   },
   "outputs": [
    {
     "name": "stdout",
     "output_type": "stream",
     "text": [
      "\n",
      "Đã load mô hình tốt nhất tại epoch 5 với val_acc = 0.6335\n"
     ]
    }
   ],
   "source": [
    "# Load lại mô hình tốt nhất từ file .pth\n",
    "checkpoint = torch.load(\"best_model.pth\", map_location=device, weights_only=False)\n",
    "model.load_state_dict(checkpoint['model_state_dict'])\n",
    "optimizer.load_state_dict(checkpoint['optimizer_state_dict'])\n",
    "model.to(device)\n",
    "print(f\"\\nĐã load mô hình tốt nhất tại epoch {checkpoint['epoch']} với val_acc = {checkpoint['val_accuracy']:.4f}\")"
   ]
  },
  {
   "cell_type": "code",
   "execution_count": 13,
   "id": "b4cfb8e1",
   "metadata": {
    "execution": {
     "iopub.execute_input": "2025-06-14T08:26:01.938817Z",
     "iopub.status.busy": "2025-06-14T08:26:01.938624Z",
     "iopub.status.idle": "2025-06-14T08:26:01.944118Z",
     "shell.execute_reply": "2025-06-14T08:26:01.943500Z",
     "shell.execute_reply.started": "2025-06-14T08:26:01.938803Z"
    },
    "trusted": true
   },
   "outputs": [
    {
     "name": "stdout",
     "output_type": "stream",
     "text": [
      "\n",
      "--- Examples of Predictions ---\n",
      "✅ Correct | Text: bọn miền nam đã ra tận ngoài này ròi\n",
      "  Predicted: Tức giận, Actual: Tức giận\n",
      "\n",
      "✅ Correct | Text: th kia sai nhưng ô này cx_k vừa tự_nhiên đứng giữa đường\n",
      "  Predicted: Tức giận, Actual: Tức giận\n",
      "\n",
      "✅ Correct | Text: sợ\n",
      "  Predicted: Sợ hãi, Actual: Sợ hãi\n",
      "\n",
      "❌ Incorrect | Text: trời chơi kỳ vậy\n",
      "  Predicted: Tức giận, Actual: Khác\n",
      "\n",
      "✅ Correct | Text: sau_cùng cha_mẹ cũng là người khóc nhiều nhất\n",
      "  Predicted: Buồn bã, Actual: Buồn bã\n",
      "\n",
      "✅ Correct | Text: ib anh anh mua cho iphone\n",
      "  Predicted: Vui vẻ, Actual: Vui vẻ\n",
      "\n",
      "❌ Incorrect | Text: lúc ra tòa cái lũ này còn cười vui_vẻ lắm nha\n",
      "  Predicted: Vui vẻ, Actual: Tức giận\n",
      "\n",
      "❌ Incorrect | Text: cả đời sau lên núi ở\n",
      "  Predicted: Khác, Actual: Buồn bã\n",
      "\n",
      "✅ Correct | Text: nguy_hiểm quá\n",
      "  Predicted: Sợ hãi, Actual: Sợ hãi\n",
      "\n",
      "❌ Incorrect | Text: sờ te •\n",
      "  Predicted: Sợ hãi, Actual: Khác\n",
      "\n"
     ]
    }
   ],
   "source": [
    "print(\"\\n--- Examples of Predictions ---\")\n",
    "for i in range(10):\n",
    "    pred = pred_labels[i]\n",
    "    true = true_labels[i]\n",
    "    text = comments.iloc[val_dataset.indices[i]]['text']\n",
    "    status = \"✅ Correct\" if pred == true else \"❌ Incorrect\"\n",
    "    print(f\"{status} | Text: {text}\\n  Predicted: {label_names[pred]}, Actual: {label_names[true]}\\n\")\n"
   ]
  },
  {
   "cell_type": "code",
   "execution_count": 14,
   "id": "363d5440",
   "metadata": {
    "execution": {
     "iopub.execute_input": "2025-06-14T08:26:01.945052Z",
     "iopub.status.busy": "2025-06-14T08:26:01.944829Z",
     "iopub.status.idle": "2025-06-14T08:26:01.959596Z",
     "shell.execute_reply": "2025-06-14T08:26:01.959073Z",
     "shell.execute_reply.started": "2025-06-14T08:26:01.945038Z"
    },
    "trusted": true
   },
   "outputs": [],
   "source": [
    "def predict_text(text):\n",
    "    model.eval()\n",
    "    encoded = tokenizer.encode_plus(\n",
    "        text,\n",
    "        add_special_tokens=True,\n",
    "        padding='max_length',\n",
    "        max_length=128,\n",
    "        truncation=True,\n",
    "        return_attention_mask=True,\n",
    "        return_tensors='pt'\n",
    "    )\n",
    "    input_ids = encoded['input_ids'].to(model.device)\n",
    "    attention_mask = encoded['attention_mask'].to(model.device)\n",
    "\n",
    "    with torch.no_grad():\n",
    "        outputs = model(input_ids, attention_mask=attention_mask)\n",
    "        logits = outputs.logits\n",
    "        predicted_class = torch.argmax(logits, dim=1).item()\n",
    "\n",
    "    print(f\"\\n Dự đoán cảm xúc: {label_names[predicted_class]}\")\n"
   ]
  },
  {
   "cell_type": "code",
   "execution_count": 15,
   "id": "3fae8892",
   "metadata": {
    "execution": {
     "iopub.execute_input": "2025-06-14T08:26:01.961173Z",
     "iopub.status.busy": "2025-06-14T08:26:01.960388Z",
     "iopub.status.idle": "2025-06-14T08:26:02.159259Z",
     "shell.execute_reply": "2025-06-14T08:26:02.158672Z",
     "shell.execute_reply.started": "2025-06-14T08:26:01.961135Z"
    },
    "trusted": true
   },
   "outputs": [
    {
     "name": "stdout",
     "output_type": "stream",
     "text": [
      "\n",
      " Bình luận: nghe bạn nam bảo : khổ thế nhờ đã dịch cô vít thì chớ mà xót🥺\n",
      "\n",
      " Dự đoán cảm xúc: Buồn bã\n",
      "\n",
      " Bình luận: mày giỡn mặt tao à?\n",
      "\n",
      " Dự đoán cảm xúc: Tức giận\n",
      "\n",
      " Bình luận: trời ơi vui quá đi 😍 hôm nay được nghỉ học\n",
      "\n",
      " Dự đoán cảm xúc: Vui vẻ\n",
      "\n",
      " Bình luận: bạn nữ đó nhìn buồn thật sự\n",
      "\n",
      " Dự đoán cảm xúc: Buồn bã\n",
      "\n",
      " Bình luận: tôi cảm thấy lo lắng khi ra đường bây giờ\n",
      "\n",
      " Dự đoán cảm xúc: Sợ hãi\n",
      "\n",
      " Bình luận: haiz, chẳng còn gì để nói nữa\n",
      "\n",
      " Dự đoán cảm xúc: Buồn bã\n",
      "\n",
      " Bình luận: mấy bạn bình tĩnh, chuyện đâu còn có đó\n",
      "\n",
      " Dự đoán cảm xúc: Buồn bã\n",
      "\n",
      " Bình luận: cảm ơn bạn rất nhiều vì đã giúp tôi\n",
      "\n",
      " Dự đoán cảm xúc: Vui vẻ\n",
      "\n",
      " Bình luận: tôi ghét cái cách bạn đối xử với tôi\n",
      "\n",
      " Dự đoán cảm xúc: Tức giận\n",
      "\n",
      " Bình luận: mình rất hồi hộp chờ kết quả thi\n",
      "\n",
      " Dự đoán cảm xúc: Khác\n"
     ]
    }
   ],
   "source": [
    "test_texts = [\n",
    "    \"nghe bạn nam bảo : khổ thế nhờ đã dịch cô vít thì chớ mà xót🥺\",\n",
    "    \"mày giỡn mặt tao à?\",\n",
    "    \"trời ơi vui quá đi 😍 hôm nay được nghỉ học\",\n",
    "    \"bạn nữ đó nhìn buồn thật sự\",\n",
    "    \"tôi cảm thấy lo lắng khi ra đường bây giờ\",\n",
    "    \"haiz, chẳng còn gì để nói nữa\",\n",
    "    \"mấy bạn bình tĩnh, chuyện đâu còn có đó\",\n",
    "    \"cảm ơn bạn rất nhiều vì đã giúp tôi\",\n",
    "    \"tôi ghét cái cách bạn đối xử với tôi\",\n",
    "    \"mình rất hồi hộp chờ kết quả thi\"\n",
    "]\n",
    "\n",
    "for text in test_texts:\n",
    "    print(f\"\\n Bình luận: {text}\")\n",
    "    predict_text(text)\n"
   ]
  },
  {
   "cell_type": "code",
   "execution_count": 16,
   "id": "4b89e833-3c98-4dcf-a8e6-93e6533dde7e",
   "metadata": {
    "execution": {
     "iopub.execute_input": "2025-06-14T08:26:02.160197Z",
     "iopub.status.busy": "2025-06-14T08:26:02.159964Z",
     "iopub.status.idle": "2025-06-14T08:27:26.746302Z",
     "shell.execute_reply": "2025-06-14T08:27:26.745546Z",
     "shell.execute_reply.started": "2025-06-14T08:26:02.160173Z"
    },
    "trusted": true
   },
   "outputs": [
    {
     "name": "stdout",
     "output_type": "stream",
     "text": [
      "  adding: kaggle/working/ (stored 0%)\n",
      "  adding: kaggle/working/.virtual_documents/ (stored 0%)\n",
      "  adding: kaggle/working/vibert-base-cased/ (stored 0%)\n",
      "  adding: kaggle/working/vibert-base-cased/config.json (deflated 56%)\n",
      "  adding: kaggle/working/vibert-base-cased/special_tokens_map.json (deflated 42%)\n",
      "  adding: kaggle/working/vibert-base-cased/tokenizer.json (deflated 70%)\n",
      "  adding: kaggle/working/vibert-base-cased/model.safetensors"
     ]
    },
    {
     "name": "stderr",
     "output_type": "stream",
     "text": [
      "huggingface/tokenizers: The current process just got forked, after parallelism has already been used. Disabling parallelism to avoid deadlocks...\n",
      "To disable this warning, you can either:\n",
      "\t- Avoid using `tokenizers` before the fork if possible\n",
      "\t- Explicitly set the environment variable TOKENIZERS_PARALLELISM=(true | false)\n"
     ]
    },
    {
     "name": "stdout",
     "output_type": "stream",
     "text": [
      " (deflated 8%)\n",
      "  adding: kaggle/working/vibert-base-cased/vocab.txt (deflated 48%)\n",
      "  adding: kaggle/working/vibert-base-cased/tokenizer_config.json (deflated 74%)\n",
      "  adding: kaggle/working/best_model.pth (deflated 23%)\n"
     ]
    }
   ],
   "source": [
    "!zip -r /kaggle/working/vibert-base-cased.zip /kaggle/working"
   ]
  }
 ],
 "metadata": {
  "kaggle": {
   "accelerator": "gpu",
   "dataSources": [
    {
     "datasetId": 7467876,
     "sourceId": 12161035,
     "sourceType": "datasetVersion"
    }
   ],
   "dockerImageVersionId": 31041,
   "isGpuEnabled": true,
   "isInternetEnabled": true,
   "language": "python",
   "sourceType": "notebook"
  },
  "kernelspec": {
   "display_name": "venv",
   "language": "python",
   "name": "python3"
  },
  "language_info": {
   "codemirror_mode": {
    "name": "ipython",
    "version": 3
   },
   "file_extension": ".py",
   "mimetype": "text/x-python",
   "name": "python",
   "nbconvert_exporter": "python",
   "pygments_lexer": "ipython3",
   "version": "3.10.6"
  }
 },
 "nbformat": 4,
 "nbformat_minor": 5
}
