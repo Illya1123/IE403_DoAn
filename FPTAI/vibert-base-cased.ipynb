{
 "cells": [
  {
   "cell_type": "code",
   "execution_count": 1,
   "id": "54fbb94c",
   "metadata": {},
   "outputs": [],
   "source": [
    "import numpy as np\n",
    "import pandas as pd"
   ]
  },
  {
   "cell_type": "code",
   "execution_count": 5,
   "id": "242718cd",
   "metadata": {},
   "outputs": [
    {
     "name": "stdout",
     "output_type": "stream",
     "text": [
      "                                                text  emotion_label\n",
      "0       Thằng này em trai của Gwen k động vào đc đâu              4\n",
      "1                                 Gwen là thằng nào?              4\n",
      "2                                    rồi lý do là gì              4\n",
      "3  Các bạn hiểu vì sao dính tới ma túi là án rất ...              3\n",
      "4                               May ko gặp gwen đó 🤣              0\n",
      "Số lượng comments: 3705\n",
      "comments <class 'list'>\n",
      "[0 1 2 3 4]\n"
     ]
    }
   ],
   "source": [
    "comments=pd.read_csv('../data/crawl/tiktok_comments_labeled.csv', usecols=['emotion_label', 'text'])\n",
    "comments = comments.dropna(subset=['emotion_label'])\n",
    "\n",
    "comments['emotion_label'] = comments['emotion_label'].astype(int)\n",
    "print(comments.head())\n",
    "\n",
    "print(f\"Số lượng comments: {comments.shape[0]}\")\n",
    "print(f\"comments {type(comments['text'].tolist())}\")\n",
    "unique_emotions = np.sort(comments['emotion_label'].unique())\n",
    "print(unique_emotions)"
   ]
  }
 ],
 "metadata": {
  "kernelspec": {
   "display_name": "venv",
   "language": "python",
   "name": "python3"
  },
  "language_info": {
   "codemirror_mode": {
    "name": "ipython",
    "version": 3
   },
   "file_extension": ".py",
   "mimetype": "text/x-python",
   "name": "python",
   "nbconvert_exporter": "python",
   "pygments_lexer": "ipython3",
   "version": "3.10.6"
  }
 },
 "nbformat": 4,
 "nbformat_minor": 5
}
